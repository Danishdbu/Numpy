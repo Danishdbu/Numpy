{
 "cells": [
  {
   "cell_type": "markdown",
   "id": "c0a6d887",
   "metadata": {},
   "source": [
    "# numpy\n",
    "### NumPy stands for Numerical Python and is one of the most useful scientific libraries in Python programming. It provides support for large multidimensional array objects and various tools to work with them. Various other libraries like Pandas, Matplotlib, and Scikit-learn are built on top of this amazing library.\n",
    "\n",
    "### Arrays are a collection of elements/values, that can have one or more dimensions. An array of one dimension is called a Vector while having two dimensions is called a Matrix.\n",
    "\n",
    "### NumPy arrays are called ndarray or N-dimensional arrays and they store elements of the same type and size. It is known for its high-performance and provides efficient storage and data operations as arrays grow in size"
   ]
  },
  {
   "cell_type": "code",
   "execution_count": 1,
   "id": "011f35d7",
   "metadata": {},
   "outputs": [
    {
     "name": "stdout",
     "output_type": "stream",
     "text": [
      "Requirement already satisfied: numpy in c:\\users\\desktop\\anaconda3\\lib\\site-packages (1.21.5)\n",
      "Note: you may need to restart the kernel to use updated packages.\n"
     ]
    }
   ],
   "source": [
    "pip install numpy"
   ]
  },
  {
   "cell_type": "code",
   "execution_count": 1,
   "id": "c8be9484",
   "metadata": {},
   "outputs": [],
   "source": [
    "import numpy as np #np is the de facto abbreviation for NumPy used by the data science community"
   ]
  },
  {
   "cell_type": "code",
   "execution_count": 3,
   "id": "06dc8139",
   "metadata": {},
   "outputs": [
    {
     "name": "stdout",
     "output_type": "stream",
     "text": [
      "[2 4 5 6]\n"
     ]
    }
   ],
   "source": [
    "x = np.array([2,4,5,6])\n",
    "print(x)"
   ]
  },
  {
   "cell_type": "code",
   "execution_count": 4,
   "id": "467311dc",
   "metadata": {},
   "outputs": [
    {
     "name": "stdout",
     "output_type": "stream",
     "text": [
      "[1, 23, 56, 78]\n"
     ]
    }
   ],
   "source": [
    "v = [1,23,56,78]\n",
    "print(v)"
   ]
  },
  {
   "cell_type": "markdown",
   "id": "9fb26fec",
   "metadata": {},
   "source": [
    "# Python Lists vs NumPy Arrays – What’s the Difference?\n",
    "### If you’re familiar with Python, you might be wondering why use NumPy arrays when we already have Python lists? After all, these Python lists act as an array that can store elements of various types. This is a perfectly valid question and the answer to this is hidden in the way Python stores an object in memory.\n",
    "\n",
    "### A Python object is actually a pointer to a memory location that stores all the details about the object, like bytes and the value. Although this extra information is what makes Python a dynamically typed language, it also comes at a cost which becomes apparent when storing a large collection of objects, like in an array.\n",
    "\n",
    "### Python lists are essentially an array of pointers, each pointing to a location that contains the information related to the element. This adds a lot of overhead in terms of memory and computation. And most of this information is rendered redundant when all the objects stored in the list are of the same type!\n",
    "\n",
    "### To overcome this problem, we use NumPy arrays that contain only homogeneous elements, i.e. elements having the same data type. This makes it more efficient at storing and manipulating the array. This difference becomes apparent when the array has a large number of elements, say thousands or millions. Also, with NumPy arrays, you can perform element-wise operations, something which is not possible using Python lists!\n",
    "\n",
    "### This is the reason why NumPy arrays are preferred over Python lists when performing mathematical operations on a large amount of data."
   ]
  },
  {
   "cell_type": "code",
   "execution_count": 5,
   "id": "39341dab",
   "metadata": {},
   "outputs": [
    {
     "name": "stdout",
     "output_type": "stream",
     "text": [
      "<class 'numpy.ndarray'>\n"
     ]
    }
   ],
   "source": [
    "print(type(x))"
   ]
  },
  {
   "cell_type": "code",
   "execution_count": 6,
   "id": "9a0177d7",
   "metadata": {},
   "outputs": [
    {
     "data": {
      "text/plain": [
       "list"
      ]
     },
     "execution_count": 6,
     "metadata": {},
     "output_type": "execute_result"
    }
   ],
   "source": [
    "type(v)"
   ]
  },
  {
   "cell_type": "code",
   "execution_count": 7,
   "id": "fbc0e46a",
   "metadata": {},
   "outputs": [
    {
     "name": "stdout",
     "output_type": "stream",
     "text": [
      "['T', '__abs__', '__add__', '__and__', '__array__', '__array_finalize__', '__array_function__', '__array_interface__', '__array_prepare__', '__array_priority__', '__array_struct__', '__array_ufunc__', '__array_wrap__', '__bool__', '__class__', '__complex__', '__contains__', '__copy__', '__deepcopy__', '__delattr__', '__delitem__', '__dir__', '__divmod__', '__doc__', '__eq__', '__float__', '__floordiv__', '__format__', '__ge__', '__getattribute__', '__getitem__', '__gt__', '__hash__', '__iadd__', '__iand__', '__ifloordiv__', '__ilshift__', '__imatmul__', '__imod__', '__imul__', '__index__', '__init__', '__init_subclass__', '__int__', '__invert__', '__ior__', '__ipow__', '__irshift__', '__isub__', '__iter__', '__itruediv__', '__ixor__', '__le__', '__len__', '__lshift__', '__lt__', '__matmul__', '__mod__', '__mul__', '__ne__', '__neg__', '__new__', '__or__', '__pos__', '__pow__', '__radd__', '__rand__', '__rdivmod__', '__reduce__', '__reduce_ex__', '__repr__', '__rfloordiv__', '__rlshift__', '__rmatmul__', '__rmod__', '__rmul__', '__ror__', '__rpow__', '__rrshift__', '__rshift__', '__rsub__', '__rtruediv__', '__rxor__', '__setattr__', '__setitem__', '__setstate__', '__sizeof__', '__str__', '__sub__', '__subclasshook__', '__truediv__', '__xor__', 'all', 'any', 'argmax', 'argmin', 'argpartition', 'argsort', 'astype', 'base', 'byteswap', 'choose', 'clip', 'compress', 'conj', 'conjugate', 'copy', 'ctypes', 'cumprod', 'cumsum', 'data', 'diagonal', 'dot', 'dtype', 'dump', 'dumps', 'fill', 'flags', 'flat', 'flatten', 'getfield', 'imag', 'item', 'itemset', 'itemsize', 'max', 'mean', 'min', 'nbytes', 'ndim', 'newbyteorder', 'nonzero', 'partition', 'prod', 'ptp', 'put', 'ravel', 'real', 'repeat', 'reshape', 'resize', 'round', 'searchsorted', 'setfield', 'setflags', 'shape', 'size', 'sort', 'squeeze', 'std', 'strides', 'sum', 'swapaxes', 'take', 'tobytes', 'tofile', 'tolist', 'tostring', 'trace', 'transpose', 'var', 'view']\n"
     ]
    }
   ],
   "source": [
    "print(dir(x))"
   ]
  },
  {
   "cell_type": "code",
   "execution_count": 4,
   "id": "c5830928",
   "metadata": {},
   "outputs": [
    {
     "name": "stdout",
     "output_type": "stream",
     "text": [
      "1.4 µs ± 11.1 ns per loop (mean ± std. dev. of 7 runs, 1,000,000 loops each)\n"
     ]
    }
   ],
   "source": [
    "%timeit [i**4 for i in range(1,9)]"
   ]
  },
  {
   "cell_type": "code",
   "execution_count": 5,
   "id": "4f22fa12",
   "metadata": {},
   "outputs": [
    {
     "name": "stdout",
     "output_type": "stream",
     "text": [
      "810 ns ± 4.21 ns per loop (mean ± std. dev. of 7 runs, 1,000,000 loops each)\n"
     ]
    }
   ],
   "source": [
    "import numpy as np\n",
    "%timeit np.arange(1,9)**4\n"
   ]
  },
  {
   "cell_type": "markdown",
   "id": "dfcf9166",
   "metadata": {},
   "source": [
    "# Array \n",
    "### The elements in the contiguous memory address are contained in the linear data structure known as an array. At these places, it primarily groups components of the same data type."
   ]
  },
  {
   "cell_type": "markdown",
   "id": "e46d810c",
   "metadata": {},
   "source": [
    "# Creating array"
   ]
  },
  {
   "cell_type": "markdown",
   "id": "71c7e2a0",
   "metadata": {},
   "source": [
    "### NumPy arrays are very easy to create given the complex problems they solve. To create a very basic ndarray, you use the np.array() method. All you have to pass are the values of the array as a list:\n",
    "\n"
   ]
  },
  {
   "cell_type": "code",
   "execution_count": 10,
   "id": "e0071989",
   "metadata": {},
   "outputs": [
    {
     "name": "stdout",
     "output_type": "stream",
     "text": [
      "[1 2 3 4]\n"
     ]
    }
   ],
   "source": [
    "import numpy\n",
    "x = [1,2,3,4]\n",
    "y = np.array(x)\n",
    "print(y)"
   ]
  },
  {
   "cell_type": "code",
   "execution_count": 11,
   "id": "4b2da942",
   "metadata": {},
   "outputs": [
    {
     "name": "stdout",
     "output_type": "stream",
     "text": [
      "[1 2 3 4]\n"
     ]
    }
   ],
   "source": [
    "import numpy\n",
    "#x = [1,2,3,4]\n",
    "y = np.array([1,2,3,4])\n",
    "print(y)"
   ]
  },
  {
   "cell_type": "code",
   "execution_count": 12,
   "id": "7d92a18e",
   "metadata": {},
   "outputs": [
    {
     "data": {
      "text/plain": [
       "array([1, 2, 3, 4])"
      ]
     },
     "execution_count": 12,
     "metadata": {},
     "output_type": "execute_result"
    }
   ],
   "source": [
    "y"
   ]
  },
  {
   "cell_type": "code",
   "execution_count": 13,
   "id": "accdb2c2",
   "metadata": {},
   "outputs": [
    {
     "name": "stdout",
     "output_type": "stream",
     "text": [
      "<class 'numpy.ndarray'>\n"
     ]
    }
   ],
   "source": [
    "print(type(y))"
   ]
  },
  {
   "cell_type": "code",
   "execution_count": 14,
   "id": "856bdac7",
   "metadata": {},
   "outputs": [],
   "source": [
    "# user array"
   ]
  },
  {
   "cell_type": "code",
   "execution_count": 15,
   "id": "bef11697",
   "metadata": {},
   "outputs": [
    {
     "name": "stdout",
     "output_type": "stream",
     "text": [
      "enter8\n",
      "enter8\n",
      "enter9\n",
      "enter8\n",
      "['8' '8' '9' '8']\n"
     ]
    }
   ],
   "source": [
    "a = []\n",
    "for i in range(1,5):\n",
    "    int_i = input(\"enter\")\n",
    "    a.append(int_i)\n",
    "print(np.array(a))"
   ]
  },
  {
   "cell_type": "code",
   "execution_count": 16,
   "id": "5704f4cd",
   "metadata": {},
   "outputs": [
    {
     "name": "stdout",
     "output_type": "stream",
     "text": [
      "enter54\n",
      "enter65\n",
      "enter78\n",
      "enter89\n",
      "[54 65 78 89]\n"
     ]
    }
   ],
   "source": [
    "a = []\n",
    "for i in range(1,5):\n",
    "    int_i = int(input(\"enter\"))\n",
    "    a.append(int_i)\n",
    "print(np.array(a))"
   ]
  },
  {
   "cell_type": "code",
   "execution_count": 17,
   "id": "a555543c",
   "metadata": {},
   "outputs": [
    {
     "name": "stdout",
     "output_type": "stream",
     "text": [
      "enter565\n",
      "enter88\n",
      "enter09\n",
      "enter99\n",
      "[565  88   9  99]\n"
     ]
    }
   ],
   "source": [
    "a = []\n",
    "for i in range(1,5):\n",
    "    int_i = int(input(\"enter\"))\n",
    "    a.append(int_i)\n",
    "o = np.array(a)\n",
    "print(o)"
   ]
  },
  {
   "cell_type": "code",
   "execution_count": 18,
   "id": "d2bfeff0",
   "metadata": {},
   "outputs": [
    {
     "name": "stdout",
     "output_type": "stream",
     "text": [
      "<class 'numpy.ndarray'>\n"
     ]
    }
   ],
   "source": [
    "print(type(o))"
   ]
  },
  {
   "cell_type": "code",
   "execution_count": 19,
   "id": "dc7e6100",
   "metadata": {},
   "outputs": [
    {
     "name": "stdout",
     "output_type": "stream",
     "text": [
      "<class 'list'>\n"
     ]
    }
   ],
   "source": [
    "print(type(a))"
   ]
  },
  {
   "cell_type": "markdown",
   "id": "5ca8fe3c",
   "metadata": {},
   "source": [
    "# Array attributes"
   ]
  },
  {
   "cell_type": "markdown",
   "id": "11daa0dc",
   "metadata": {},
   "source": [
    "# ndim\n",
    "### ndim represents the number of dimensions (axes) of the ndarray\n"
   ]
  },
  {
   "cell_type": "code",
   "execution_count": 21,
   "id": "dc1e2f7b",
   "metadata": {},
   "outputs": [],
   "source": [
    "a1 = np.arange(10)\n",
    "a2 = np.arange(12,dtype = float).reshape(3,4)\n",
    "a3= np.arange(8).reshape(2,2,2)"
   ]
  },
  {
   "cell_type": "code",
   "execution_count": 31,
   "id": "cf05857e",
   "metadata": {},
   "outputs": [
    {
     "name": "stdout",
     "output_type": "stream",
     "text": [
      "# vector  1d\n",
      "[0 1 2 3 4 5 6 7 8 9]\n",
      "# matrix 2d\n",
      "[[ 0.  1.  2.  3.]\n",
      " [ 4.  5.  6.  7.]\n",
      " [ 8.  9. 10. 11.]]\n",
      "#3d\n",
      "[[[0 1]\n",
      "  [2 3]]\n",
      "\n",
      " [[4 5]\n",
      "  [6 7]]]\n"
     ]
    }
   ],
   "source": [
    "print(\"# vector  1d\")\n",
    "print(a1)\n",
    "print(\"# matrix 2d\")\n",
    "print(a2)\n",
    "print(\"#3d\")\n",
    "print(a3)\n"
   ]
  },
  {
   "cell_type": "code",
   "execution_count": 32,
   "id": "557b2bd0",
   "metadata": {},
   "outputs": [
    {
     "data": {
      "text/plain": [
       "1"
      ]
     },
     "execution_count": 32,
     "metadata": {},
     "output_type": "execute_result"
    }
   ],
   "source": [
    "a1.ndim"
   ]
  },
  {
   "cell_type": "code",
   "execution_count": 33,
   "id": "a75b1745",
   "metadata": {},
   "outputs": [
    {
     "data": {
      "text/plain": [
       "2"
      ]
     },
     "execution_count": 33,
     "metadata": {},
     "output_type": "execute_result"
    }
   ],
   "source": [
    "a2.ndim"
   ]
  },
  {
   "cell_type": "code",
   "execution_count": 34,
   "id": "f10a7600",
   "metadata": {},
   "outputs": [
    {
     "data": {
      "text/plain": [
       "3"
      ]
     },
     "execution_count": 34,
     "metadata": {},
     "output_type": "execute_result"
    }
   ],
   "source": [
    "a3.ndim"
   ]
  },
  {
   "cell_type": "markdown",
   "id": "6d755757",
   "metadata": {},
   "source": [
    "# shape\n",
    "### shape is a tuple of integers representing the size of the ndarray in each dimension"
   ]
  },
  {
   "cell_type": "markdown",
   "id": "edd4361a",
   "metadata": {},
   "source": [
    "for this 2-dimensional array [ [3,4,6], [0,8,1]], value of shape will be (2,3) because this ndarray has two dimensions - rows and columns - and the number of rows is 2 and the number of columns is 3"
   ]
  },
  {
   "cell_type": "code",
   "execution_count": 35,
   "id": "f9497667",
   "metadata": {},
   "outputs": [
    {
     "data": {
      "text/plain": [
       "(10,)"
      ]
     },
     "execution_count": 35,
     "metadata": {},
     "output_type": "execute_result"
    }
   ],
   "source": [
    "a1.shape # 1d"
   ]
  },
  {
   "cell_type": "code",
   "execution_count": 36,
   "id": "5432dfe6",
   "metadata": {},
   "outputs": [
    {
     "data": {
      "text/plain": [
       "(3, 4)"
      ]
     },
     "execution_count": 36,
     "metadata": {},
     "output_type": "execute_result"
    }
   ],
   "source": [
    "a2.shape #2d "
   ]
  },
  {
   "cell_type": "code",
   "execution_count": 37,
   "id": "ba3967a5",
   "metadata": {},
   "outputs": [
    {
     "data": {
      "text/plain": [
       "(2, 2, 2)"
      ]
     },
     "execution_count": 37,
     "metadata": {},
     "output_type": "execute_result"
    }
   ],
   "source": [
    "a3.shape #3d"
   ]
  },
  {
   "cell_type": "markdown",
   "id": "8d65ce5b",
   "metadata": {},
   "source": [
    "# size\n",
    "### size is the total number of elements in the ndarray. It is equal to the product of elements of the shape."
   ]
  },
  {
   "cell_type": "code",
   "execution_count": 38,
   "id": "fdc5c515",
   "metadata": {},
   "outputs": [
    {
     "data": {
      "text/plain": [
       "8"
      ]
     },
     "execution_count": 38,
     "metadata": {},
     "output_type": "execute_result"
    }
   ],
   "source": [
    "a3.size"
   ]
  },
  {
   "cell_type": "code",
   "execution_count": 39,
   "id": "580a028a",
   "metadata": {},
   "outputs": [
    {
     "data": {
      "text/plain": [
       "12"
      ]
     },
     "execution_count": 39,
     "metadata": {},
     "output_type": "execute_result"
    }
   ],
   "source": [
    "a2.size"
   ]
  },
  {
   "cell_type": "markdown",
   "id": "95909d37",
   "metadata": {},
   "source": [
    "# itemsize\n",
    "### itemsize returns the size (in bytes) of each element of a NumPy array"
   ]
  },
  {
   "cell_type": "code",
   "execution_count": 40,
   "id": "1f7df007",
   "metadata": {},
   "outputs": [
    {
     "data": {
      "text/plain": [
       "8"
      ]
     },
     "execution_count": 40,
     "metadata": {},
     "output_type": "execute_result"
    }
   ],
   "source": [
    "a2.itemsize"
   ]
  },
  {
   "cell_type": "code",
   "execution_count": 41,
   "id": "b560a80c",
   "metadata": {},
   "outputs": [
    {
     "data": {
      "text/plain": [
       "4"
      ]
     },
     "execution_count": 41,
     "metadata": {},
     "output_type": "execute_result"
    }
   ],
   "source": [
    "a1.itemsize"
   ]
  },
  {
   "cell_type": "code",
   "execution_count": 42,
   "id": "2ff25513",
   "metadata": {},
   "outputs": [
    {
     "name": "stdout",
     "output_type": "stream",
     "text": [
      "['a' 's' 'f' 'd']\n"
     ]
    }
   ],
   "source": [
    "x = np.array(['a','s','f','d'])\n",
    "print(x)"
   ]
  },
  {
   "cell_type": "code",
   "execution_count": 43,
   "id": "0120aa0b",
   "metadata": {},
   "outputs": [
    {
     "data": {
      "text/plain": [
       "4"
      ]
     },
     "execution_count": 43,
     "metadata": {},
     "output_type": "execute_result"
    }
   ],
   "source": [
    "x.itemsize"
   ]
  },
  {
   "cell_type": "code",
   "execution_count": 45,
   "id": "31c0a7be",
   "metadata": {},
   "outputs": [
    {
     "name": "stdout",
     "output_type": "stream",
     "text": [
      "[ True False False  True]\n"
     ]
    }
   ],
   "source": [
    "x1 = np.array([True,False,False,True])\n",
    "print(x1)"
   ]
  },
  {
   "cell_type": "code",
   "execution_count": 46,
   "id": "aa47d87c",
   "metadata": {},
   "outputs": [
    {
     "data": {
      "text/plain": [
       "1"
      ]
     },
     "execution_count": 46,
     "metadata": {},
     "output_type": "execute_result"
    }
   ],
   "source": [
    "x1.itemsize"
   ]
  },
  {
   "cell_type": "markdown",
   "id": "0ef7ac7d",
   "metadata": {},
   "source": [
    "# dtype\n",
    "\n",
    "### dtype tells the data type of the elements of a NumPy array. In NumPy array, all the elements have the same data type."
   ]
  },
  {
   "cell_type": "code",
   "execution_count": 47,
   "id": "28d6998f",
   "metadata": {},
   "outputs": [
    {
     "data": {
      "text/plain": [
       "dtype('bool')"
      ]
     },
     "execution_count": 47,
     "metadata": {},
     "output_type": "execute_result"
    }
   ],
   "source": [
    "x1.dtype"
   ]
  },
  {
   "cell_type": "code",
   "execution_count": 48,
   "id": "9ce9d476",
   "metadata": {},
   "outputs": [
    {
     "data": {
      "text/plain": [
       "dtype('int32')"
      ]
     },
     "execution_count": 48,
     "metadata": {},
     "output_type": "execute_result"
    }
   ],
   "source": [
    "a1.dtype"
   ]
  },
  {
   "cell_type": "code",
   "execution_count": 49,
   "id": "b3c3333b",
   "metadata": {},
   "outputs": [
    {
     "data": {
      "text/plain": [
       "dtype('float64')"
      ]
     },
     "execution_count": 49,
     "metadata": {},
     "output_type": "execute_result"
    }
   ],
   "source": [
    "a2.dtype"
   ]
  },
  {
   "cell_type": "code",
   "execution_count": 50,
   "id": "5429070c",
   "metadata": {},
   "outputs": [
    {
     "data": {
      "text/plain": [
       "dtype('bool')"
      ]
     },
     "execution_count": 50,
     "metadata": {},
     "output_type": "execute_result"
    }
   ],
   "source": [
    "x.dtype"
   ]
  },
  {
   "cell_type": "markdown",
   "id": "5c9a40e0",
   "metadata": {},
   "source": [
    "# changing data size in less memory size.\n"
   ]
  },
  {
   "cell_type": "code",
   "execution_count": 51,
   "id": "02796022",
   "metadata": {},
   "outputs": [],
   "source": [
    "# using astype "
   ]
  },
  {
   "cell_type": "code",
   "execution_count": 52,
   "id": "5cb575fb",
   "metadata": {},
   "outputs": [
    {
     "data": {
      "text/plain": [
       "dtype('int32')"
      ]
     },
     "execution_count": 52,
     "metadata": {},
     "output_type": "execute_result"
    }
   ],
   "source": [
    "a3.dtype"
   ]
  },
  {
   "cell_type": "code",
   "execution_count": 53,
   "id": "6e01b8e5",
   "metadata": {},
   "outputs": [],
   "source": [
    "#here data size long to 16bytes so we use this (astype) to reduce the size of data item"
   ]
  },
  {
   "cell_type": "code",
   "execution_count": 58,
   "id": "0cdae03a",
   "metadata": {},
   "outputs": [
    {
     "data": {
      "text/plain": [
       "array([[[0, 1],\n",
       "        [2, 3]],\n",
       "\n",
       "       [[4, 5],\n",
       "        [6, 7]]], dtype=int16)"
      ]
     },
     "execution_count": 58,
     "metadata": {},
     "output_type": "execute_result"
    }
   ],
   "source": [
    "a3 = a3.astype(np.int16)\n",
    "a3"
   ]
  },
  {
   "cell_type": "code",
   "execution_count": 59,
   "id": "d41485ad",
   "metadata": {},
   "outputs": [
    {
     "data": {
      "text/plain": [
       "dtype('int16')"
      ]
     },
     "execution_count": 59,
     "metadata": {},
     "output_type": "execute_result"
    }
   ],
   "source": [
    "a3.dtype"
   ]
  },
  {
   "cell_type": "markdown",
   "id": "02d43c21",
   "metadata": {},
   "source": [
    "# 1D - Array \n",
    "### A One-Dimensional Array is the simplest form of an Array in which the elements are stored linearly and can be accessed individually by specifying the index value of each element stored in the array.\n"
   ]
  },
  {
   "cell_type": "code",
   "execution_count": 20,
   "id": "3c6cb6a4",
   "metadata": {},
   "outputs": [
    {
     "name": "stdout",
     "output_type": "stream",
     "text": [
      "[1 2 3 4]\n",
      "1\n"
     ]
    }
   ],
   "source": [
    "import numpy\n",
    "x = [1,2,3,4]\n",
    "y = np.array(x)\n",
    "print(y)\n",
    "print(y.ndim) # ndim method is used to find dimensions"
   ]
  },
  {
   "attachments": {
    "image.png": {
     "image/png": "[encoded data removed]"
    }
   },
   "cell_type": "markdown",
   "id": "6c31db7b",
   "metadata": {},
   "source": [
    "# 2D\n",
    "### 2D array are also called as Matrices which can be represented as collection of rows and columns.\n",
    "![image.png](attachment:image.png)"
   ]
  },
  {
   "cell_type": "code",
   "execution_count": 21,
   "id": "4347a578",
   "metadata": {},
   "outputs": [
    {
     "name": "stdout",
     "output_type": "stream",
     "text": [
      "[[ 1  2  3  4]\n",
      " [12 23 34 45]]\n",
      "2\n"
     ]
    }
   ],
   "source": [
    "ar2 = np.array([[1,2,3,4],[12,23,34,45]])\n",
    "print(ar2)\n",
    "print(ar2.ndim)"
   ]
  },
  {
   "cell_type": "code",
   "execution_count": 22,
   "id": "3c64df53",
   "metadata": {},
   "outputs": [
    {
     "name": "stdout",
     "output_type": "stream",
     "text": [
      "[list([2, 3, 4]) list([12, 23, 34, 45])]\n",
      "1\n"
     ]
    },
    {
     "name": "stderr",
     "output_type": "stream",
     "text": [
      "C:\\Users\\DESKTOP\\AppData\\Local\\Temp\\ipykernel_10392\\2324553462.py:1: VisibleDeprecationWarning: Creating an ndarray from ragged nested sequences (which is a list-or-tuple of lists-or-tuples-or ndarrays with different lengths or shapes) is deprecated. If you meant to do this, you must specify 'dtype=object' when creating the ndarray.\n",
      "  ar2 = np.array([[2,3,4],[12,23,34,45]])\n"
     ]
    }
   ],
   "source": [
    "ar2 = np.array([[2,3,4],[12,23,34,45]])\n",
    "print(ar2)\n",
    "print(ar2.ndim)"
   ]
  },
  {
   "cell_type": "code",
   "execution_count": 3,
   "id": "25aeb229",
   "metadata": {},
   "outputs": [
    {
     "name": "stdout",
     "output_type": "stream",
     "text": [
      "enter no of raws2\n",
      "enter no of cols2\n",
      "Enter number12\n",
      "Enter number13\n",
      "Enter number13\n",
      "Enter number24\n",
      "12 13 \n",
      "13 24 \n"
     ]
    }
   ],
   "source": [
    "import numpy as np\n",
    "mat = []\n",
    "row = int(input(\"enter no of raws\"))\n",
    "col  = int(input(\"enter no of cols\"))\n",
    "for i in range(row):\n",
    "    a = []\n",
    "    for j in range(col):\n",
    "        val = int(input(\"Enter number\"))\n",
    "        a.append(val)\n",
    "    mat.append(a)\n",
    "arr = np.array(mat)\n",
    "for i in range(row):\n",
    "    for j in range(col):\n",
    "        print(arr[i,j],end=\" \")\n",
    "    print()"
   ]
  },
  {
   "cell_type": "code",
   "execution_count": 5,
   "id": "f6dbde37",
   "metadata": {},
   "outputs": [
    {
     "name": "stdout",
     "output_type": "stream",
     "text": [
      "2\n"
     ]
    }
   ],
   "source": [
    "print(arr.ndim)"
   ]
  },
  {
   "cell_type": "code",
   "execution_count": 7,
   "id": "affff1cc",
   "metadata": {},
   "outputs": [
    {
     "name": "stdout",
     "output_type": "stream",
     "text": [
      "enter no of raws4\n",
      "enter no of cols4\n",
      "Enter number33\n",
      "Enter number11\n",
      "Enter number22\n",
      "Enter number33\n",
      "Enter number55\n",
      "Enter number66\n",
      "Enter number77\n",
      "Enter number88\n",
      "Enter number99\n",
      "Enter number12\n",
      "Enter number32\n",
      "Enter number12\n",
      "Enter number23\n",
      "Enter number34\n",
      "Enter number24\n",
      "Enter number55\n",
      "33 11 22 33 \n",
      "55 66 77 88 \n",
      "99 12 32 12 \n",
      "23 34 24 55 \n",
      "2\n"
     ]
    }
   ],
   "source": [
    "import numpy as np\n",
    "mat = []\n",
    "row = int(input(\"enter no of raws\"))\n",
    "col  = int(input(\"enter no of cols\"))\n",
    "for i in range(row):\n",
    "    a = []\n",
    "    for j in range(col):\n",
    "        val = int(input(\"Enter number\"))\n",
    "        a.append(val)\n",
    "    mat.append(a)\n",
    "arr = np.array(mat)\n",
    "for i in range(row):\n",
    "    for j in range(col):\n",
    "        print(arr[i,j],end=\" \")\n",
    "    print()\n",
    "print(arr.ndim)"
   ]
  },
  {
   "cell_type": "code",
   "execution_count": 12,
   "id": "c4328d03",
   "metadata": {},
   "outputs": [
    {
     "name": "stdout",
     "output_type": "stream",
     "text": [
      "[[ 1  2  3]\n",
      " [12 23 44]\n",
      " [ 2 56  8]]\n",
      "2\n"
     ]
    }
   ],
   "source": [
    "a1 = np.array([[1,2,3]\n",
    "              ,[12,23,44],\n",
    "              [2,56,8]])\n",
    "print(a1)\n",
    "print(a1.ndim)"
   ]
  },
  {
   "attachments": {
    "image.png": {
     "image/png": "[encoded data removed]"
    }
   },
   "cell_type": "markdown",
   "id": "786985ee",
   "metadata": {},
   "source": [
    "# 3D\n",
    "### Arrays in NumPy are the data structures with high performance which are suitable for mathematical operations. The three levels of arrays nested inside one another represent the three-dimensional array in python, where each level represents one dimension\n",
    "![image.png](attachment:image.png)"
   ]
  },
  {
   "cell_type": "code",
   "execution_count": 2,
   "id": "82043135",
   "metadata": {},
   "outputs": [
    {
     "name": "stdout",
     "output_type": "stream",
     "text": [
      "[[[1 2 3]\n",
      "  [1 3 5]\n",
      "  [2 9 6]]]\n"
     ]
    }
   ],
   "source": [
    "import numpy as np\n",
    "ar3 = [[[1,2,3],[1,3,5],[2,9,6]]]\n",
    "y = np.array(ar3)\n",
    "print(y)"
   ]
  },
  {
   "cell_type": "code",
   "execution_count": 3,
   "id": "6c3773a9",
   "metadata": {},
   "outputs": [
    {
     "name": "stdout",
     "output_type": "stream",
     "text": [
      "3\n"
     ]
    }
   ],
   "source": [
    "print(y.ndim)"
   ]
  },
  {
   "cell_type": "code",
   "execution_count": 4,
   "id": "dee961e5",
   "metadata": {},
   "outputs": [
    {
     "name": "stdout",
     "output_type": "stream",
     "text": [
      "(1, 3, 3)\n"
     ]
    }
   ],
   "source": [
    "print(y.shape)"
   ]
  },
  {
   "cell_type": "code",
   "execution_count": 5,
   "id": "d223c496",
   "metadata": {},
   "outputs": [
    {
     "name": "stdout",
     "output_type": "stream",
     "text": [
      "[[[1 2 3 4]\n",
      "  [1 3 5 7]\n",
      "  [2 9 6 9]]]\n"
     ]
    }
   ],
   "source": [
    "import numpy as np\n",
    "ar3 = [[[1,2,3,4],[1,3,5,7],[2,9,6,9]]]\n",
    "y = np.array(ar3)\n",
    "print(y)"
   ]
  },
  {
   "cell_type": "code",
   "execution_count": 6,
   "id": "0d6a1e5b",
   "metadata": {},
   "outputs": [
    {
     "name": "stdout",
     "output_type": "stream",
     "text": [
      "(1, 3, 4)\n"
     ]
    }
   ],
   "source": [
    "print(y.shape)"
   ]
  },
  {
   "cell_type": "code",
   "execution_count": 8,
   "id": "dbee4284",
   "metadata": {},
   "outputs": [
    {
     "name": "stdout",
     "output_type": "stream",
     "text": [
      "[[[ 1  2  3]\n",
      "  [ 1  3  5]\n",
      "  [ 2  9  6]\n",
      "  [34 45 67]\n",
      "  [45 23 12]]]\n",
      "3\n"
     ]
    }
   ],
   "source": [
    "import numpy as np\n",
    "ar3 = [[[1,2,3],\n",
    "        [1,3,5],\n",
    "        [2,9,6],\n",
    "       [34,45,67],\n",
    "       [45,23,12]]]\n",
    "y = np.array(ar3)\n",
    "print(y)\n",
    "print(y.ndim)"
   ]
  },
  {
   "cell_type": "markdown",
   "id": "07311182",
   "metadata": {},
   "source": [
    "# n D"
   ]
  },
  {
   "cell_type": "code",
   "execution_count": 9,
   "id": "a90a717c",
   "metadata": {},
   "outputs": [
    {
     "name": "stdout",
     "output_type": "stream",
     "text": [
      "[[[[[[[[[[1 2 3 4]]]]]]]]]]\n",
      "10\n"
     ]
    }
   ],
   "source": [
    "a = np.array([1,2,3,4],ndmin=10)\n",
    "print(a)\n",
    "print(a.ndim)"
   ]
  },
  {
   "cell_type": "code",
   "execution_count": 10,
   "id": "5e508bc4",
   "metadata": {},
   "outputs": [
    {
     "name": "stdout",
     "output_type": "stream",
     "text": [
      "[[[[[[[[1 2 3 4]]]]]]]]\n",
      "8\n"
     ]
    }
   ],
   "source": [
    "a = np.array([1,2,3,4],ndmin=8)\n",
    "print(a)\n",
    "print(a.ndim)"
   ]
  },
  {
   "cell_type": "code",
   "execution_count": 13,
   "id": "2c8ce438",
   "metadata": {},
   "outputs": [
    {
     "name": "stdout",
     "output_type": "stream",
     "text": [
      "[[[[[[[[[[[[[[[[[[1 2 3 4]]]]]]]]]]]]]]]]]]\n",
      "18\n",
      "<class 'numpy.ndarray'>\n"
     ]
    }
   ],
   "source": [
    "a = np.array([1,2,3,4],ndmin=18)\n",
    "print(a)\n",
    "print(a.ndim)\n",
    "print(type(a))"
   ]
  },
  {
   "cell_type": "markdown",
   "id": "c0801635",
   "metadata": {},
   "source": [
    "## spacial numpy array\n",
    "###    1  0's array\n",
    "###    2  1's array\n",
    "###    3  create an empty array\n",
    "###    4 an array with a range of elements\n",
    "###    5 array diagonal element filled with 1's\n",
    "###    6 create an array with values that are spaced linearly in a specified interval"
   ]
  },
  {
   "cell_type": "markdown",
   "id": "1505bcbb",
   "metadata": {},
   "source": [
    " # 0's array"
   ]
  },
  {
   "cell_type": "code",
   "execution_count": 15,
   "id": "8e1454d0",
   "metadata": {},
   "outputs": [
    {
     "name": "stdout",
     "output_type": "stream",
     "text": [
      "[0. 0. 0. 0.]\n"
     ]
    }
   ],
   "source": [
    "import numpy as np\n",
    "zero1 = np.zeros(4)\n",
    "print(zero1)"
   ]
  },
  {
   "cell_type": "code",
   "execution_count": 16,
   "id": "570e9ae0",
   "metadata": {},
   "outputs": [],
   "source": [
    "# create multi D"
   ]
  },
  {
   "cell_type": "code",
   "execution_count": 19,
   "id": "b1b0b348",
   "metadata": {},
   "outputs": [
    {
     "name": "stdout",
     "output_type": "stream",
     "text": [
      "[[0. 0. 0.]\n",
      " [0. 0. 0.]]\n"
     ]
    }
   ],
   "source": [
    "# 2-D\n",
    "import numpy as np\n",
    "zero1 = np.zeros((2,3))\n",
    "print(zero1)"
   ]
  },
  {
   "cell_type": "code",
   "execution_count": 20,
   "id": "58e162e5",
   "metadata": {},
   "outputs": [
    {
     "name": "stdout",
     "output_type": "stream",
     "text": [
      "[[0. 0. 0.]\n",
      " [0. 0. 0.]\n",
      " [0. 0. 0.]]\n"
     ]
    }
   ],
   "source": [
    "# 3 - D\n",
    "import numpy as np\n",
    "zero1 = np.zeros((3,3))\n",
    "print(zero1)"
   ]
  },
  {
   "cell_type": "code",
   "execution_count": 22,
   "id": "655a48a2",
   "metadata": {},
   "outputs": [
    {
     "name": "stdout",
     "output_type": "stream",
     "text": [
      "[[0. 0. 0. 0.]\n",
      " [0. 0. 0. 0.]\n",
      " [0. 0. 0. 0.]\n",
      " [0. 0. 0. 0.]\n",
      " [0. 0. 0. 0.]]\n"
     ]
    }
   ],
   "source": [
    "#5 -D\n",
    "import numpy as np\n",
    "zero1 = np.zeros((5,4))\n",
    "print(zero1)"
   ]
  },
  {
   "cell_type": "markdown",
   "id": "32c788bc",
   "metadata": {},
   "source": [
    "# 1's array"
   ]
  },
  {
   "cell_type": "code",
   "execution_count": 23,
   "id": "542469b0",
   "metadata": {},
   "outputs": [
    {
     "name": "stdout",
     "output_type": "stream",
     "text": [
      "[1. 1. 1. 1.]\n"
     ]
    }
   ],
   "source": [
    "import numpy as np\n",
    "arr_one = np.ones(4)\n",
    "print(arr_one)"
   ]
  },
  {
   "cell_type": "code",
   "execution_count": 24,
   "id": "5aeb5efb",
   "metadata": {},
   "outputs": [],
   "source": [
    "# create multi D"
   ]
  },
  {
   "cell_type": "code",
   "execution_count": 27,
   "id": "c0b0fd4e",
   "metadata": {},
   "outputs": [
    {
     "name": "stdout",
     "output_type": "stream",
     "text": [
      "[[1. 1. 1.]\n",
      " [1. 1. 1.]]\n"
     ]
    }
   ],
   "source": [
    "# 2-D\n",
    "x = np.ones((2,3))\n",
    "print(x)"
   ]
  },
  {
   "cell_type": "code",
   "execution_count": 28,
   "id": "b5711993",
   "metadata": {},
   "outputs": [
    {
     "name": "stdout",
     "output_type": "stream",
     "text": [
      "[[1. 1. 1.]\n",
      " [1. 1. 1.]\n",
      " [1. 1. 1.]]\n"
     ]
    }
   ],
   "source": [
    "# 3-D\n",
    "print(np.ones((3,3)))"
   ]
  },
  {
   "cell_type": "markdown",
   "id": "5a7ba119",
   "metadata": {},
   "source": [
    "# empty array"
   ]
  },
  {
   "cell_type": "code",
   "execution_count": 29,
   "id": "654ba201",
   "metadata": {},
   "outputs": [
    {
     "name": "stdout",
     "output_type": "stream",
     "text": [
      "[1. 1. 1. 1.]\n"
     ]
    }
   ],
   "source": [
    "print(np.empty(4))"
   ]
  },
  {
   "cell_type": "markdown",
   "id": "cfa92e4f",
   "metadata": {},
   "source": [
    "# range()\n",
    "### NumPy arange() is one of the array creation routines based on numerical ranges. It creates an instance of ndarray with evenly spaced values and returns the reference to it.\n",
    "\n",
    "##   `numpy.arange([start, ]stop, [step, ], dtype=None) -> numpy.ndarray`\n"
   ]
  },
  {
   "cell_type": "code",
   "execution_count": 6,
   "id": "adf43be1",
   "metadata": {},
   "outputs": [
    {
     "name": "stdout",
     "output_type": "stream",
     "text": [
      "[0 1 2 3 4 5 6 7 8 9]\n"
     ]
    }
   ],
   "source": [
    "ar = np.arange(10)\n",
    "print(ar)"
   ]
  },
  {
   "cell_type": "code",
   "execution_count": 7,
   "id": "91e93d6d",
   "metadata": {},
   "outputs": [
    {
     "name": "stdout",
     "output_type": "stream",
     "text": [
      "[ 5  6  7  8  9 10 11 12 13 14]\n"
     ]
    }
   ],
   "source": [
    "ar = np.arange(5,15)\n",
    "print(ar)"
   ]
  },
  {
   "cell_type": "code",
   "execution_count": 8,
   "id": "8b19f7c1",
   "metadata": {},
   "outputs": [
    {
     "name": "stdout",
     "output_type": "stream",
     "text": [
      "[2 4 6]\n"
     ]
    }
   ],
   "source": [
    "ar = np.arange(2,8,2)\n",
    "print(ar)"
   ]
  },
  {
   "attachments": {
    "image.png": {
     "image/png": "[encoded data removed]"
    }
   },
   "cell_type": "markdown",
   "id": "31be71e4",
   "metadata": {},
   "source": [
    "![image.png](attachment:image.png)"
   ]
  },
  {
   "cell_type": "markdown",
   "id": "91192665",
   "metadata": {},
   "source": [
    "# Diagonal"
   ]
  },
  {
   "cell_type": "code",
   "execution_count": 36,
   "id": "fc20db05",
   "metadata": {},
   "outputs": [
    {
     "name": "stdout",
     "output_type": "stream",
     "text": [
      "[[1. 0. 0.]\n",
      " [0. 1. 0.]\n",
      " [0. 0. 1.]]\n"
     ]
    }
   ],
   "source": [
    "ar_dia = np.eye(3)\n",
    "print(ar_dia)"
   ]
  },
  {
   "cell_type": "code",
   "execution_count": 37,
   "id": "e7bc4fdd",
   "metadata": {},
   "outputs": [
    {
     "name": "stdout",
     "output_type": "stream",
     "text": [
      "[[1. 0. 0. 0. 0.]\n",
      " [0. 1. 0. 0. 0.]\n",
      " [0. 0. 1. 0. 0.]]\n"
     ]
    }
   ],
   "source": [
    "ar_dia = np.eye(3,5)\n",
    "print(ar_dia)"
   ]
  },
  {
   "cell_type": "code",
   "execution_count": 38,
   "id": "c2e0f141",
   "metadata": {},
   "outputs": [
    {
     "name": "stdout",
     "output_type": "stream",
     "text": [
      "[[1. 0.]\n",
      " [0. 1.]]\n"
     ]
    }
   ],
   "source": [
    "ar_dia = np.eye(2,2)\n",
    "print(ar_dia)"
   ]
  },
  {
   "cell_type": "code",
   "execution_count": 39,
   "id": "3e7b4505",
   "metadata": {},
   "outputs": [
    {
     "name": "stdout",
     "output_type": "stream",
     "text": [
      "[[1. 0. 0. 0.]\n",
      " [0. 1. 0. 0.]\n",
      " [0. 0. 1. 0.]\n",
      " [0. 0. 0. 1.]]\n"
     ]
    }
   ],
   "source": [
    "ar_dia = np.eye(4,4)\n",
    "print(ar_dia)"
   ]
  },
  {
   "cell_type": "markdown",
   "id": "c21db889",
   "metadata": {},
   "source": [
    "# numpy.diag() function\n",
    "### The diag() function is used to extract a diagonal or construct a diagonal array.\n",
    "## `numpy.diag(arr, k=0)`\n"
   ]
  },
  {
   "cell_type": "code",
   "execution_count": 11,
   "id": "3a57869d",
   "metadata": {},
   "outputs": [
    {
     "name": "stdout",
     "output_type": "stream",
     "text": [
      "[  9 240 108]\n"
     ]
    }
   ],
   "source": [
    "# matrix creation by array input\n",
    "arr = np.matrix([[9, 18, 25], \n",
    "                 [155 ,240, 68], \n",
    "                 [29, 82, 108]])\n",
    "\n",
    "# use main Diagonal elements\n",
    "arr2 = np.diag(arr)\n",
    "print(arr2)"
   ]
  },
  {
   "cell_type": "code",
   "execution_count": 12,
   "id": "e583d5f2",
   "metadata": {},
   "outputs": [
    {
     "name": "stdout",
     "output_type": "stream",
     "text": [
      "[18 68]\n"
     ]
    }
   ],
   "source": [
    "arr2 = np.diag(arr, 1)\n",
    "print(arr2)"
   ]
  },
  {
   "cell_type": "code",
   "execution_count": null,
   "id": "61194545",
   "metadata": {},
   "outputs": [],
   "source": [
    "# Take a 4×4 Matrix and Apply the diag() Function"
   ]
  },
  {
   "cell_type": "code",
   "execution_count": 13,
   "id": "0bf24207",
   "metadata": {},
   "outputs": [
    {
     "name": "stdout",
     "output_type": "stream",
     "text": [
      "[ 6 35 27]\n",
      "[ 9 26]\n"
     ]
    }
   ],
   "source": [
    "arr = np.matrix([[6,9,15], \n",
    "                 [24,35,26], \n",
    "                 [19,8,27], \n",
    "                 [41,53,15]])\n",
    "\n",
    "# main diagonal\n",
    "arr2 = np.diag(arr)\n",
    "print(arr2)\n",
    "\n",
    "\n",
    "arr2 = np.diag(arr, 1)\n",
    "print(arr2)\n"
   ]
  },
  {
   "cell_type": "markdown",
   "id": "fb189097",
   "metadata": {},
   "source": [
    "\n",
    "## Using diag to make a diagonal matrix:"
   ]
  },
  {
   "cell_type": "code",
   "execution_count": 9,
   "id": "ac1f84e7",
   "metadata": {},
   "outputs": [
    {
     "data": {
      "text/plain": [
       "array([[-2,  0,  0,  0,  0],\n",
       "       [ 0, -2,  0,  0,  0],\n",
       "       [ 0,  0, -2,  0,  0],\n",
       "       [ 0,  0,  0, -2,  0],\n",
       "       [ 0,  0,  0,  0, -2]])"
      ]
     },
     "execution_count": 9,
     "metadata": {},
     "output_type": "execute_result"
    }
   ],
   "source": [
    " np.diag(np.full(5,-2)) "
   ]
  },
  {
   "cell_type": "code",
   "execution_count": 10,
   "id": "6eb063d0",
   "metadata": {},
   "outputs": [
    {
     "data": {
      "text/plain": [
       "array([[0., 1., 0., 0., 0.],\n",
       "       [0., 0., 1., 0., 0.],\n",
       "       [0., 0., 0., 1., 0.],\n",
       "       [0., 0., 0., 0., 1.],\n",
       "       [0., 0., 0., 0., 0.]])"
      ]
     },
     "execution_count": 10,
     "metadata": {},
     "output_type": "execute_result"
    }
   ],
   "source": [
    " np.diag(np.ones(4),1)"
   ]
  },
  {
   "cell_type": "markdown",
   "id": "002a6415",
   "metadata": {},
   "source": [
    "# random"
   ]
  },
  {
   "cell_type": "markdown",
   "id": "5b59edf9",
   "metadata": {},
   "source": [
    "# rand()"
   ]
  },
  {
   "cell_type": "code",
   "execution_count": 1,
   "id": "97ec887f",
   "metadata": {},
   "outputs": [
    {
     "name": "stdout",
     "output_type": "stream",
     "text": [
      "[0.1473243  0.58087467 0.04019138 0.7435248 ]\n"
     ]
    }
   ],
   "source": [
    "import numpy as np\n",
    "var = np.random.rand(4)\n",
    "print(var)"
   ]
  },
  {
   "cell_type": "code",
   "execution_count": 2,
   "id": "8f64195e",
   "metadata": {},
   "outputs": [
    {
     "name": "stdout",
     "output_type": "stream",
     "text": [
      "[0.80539574 0.99842296 0.92192242 0.76080874]\n"
     ]
    }
   ],
   "source": [
    "import numpy as np\n",
    "var = np.random.rand(4)\n",
    "print(var)"
   ]
  },
  {
   "cell_type": "code",
   "execution_count": 3,
   "id": "dc8f3006",
   "metadata": {},
   "outputs": [
    {
     "name": "stdout",
     "output_type": "stream",
     "text": [
      "[0.97202562 0.24622748 0.05331997 0.71809823]\n"
     ]
    }
   ],
   "source": [
    "var = np.random.rand(4)\n",
    "print(var)"
   ]
  },
  {
   "cell_type": "code",
   "execution_count": 4,
   "id": "e1e81ef0",
   "metadata": {},
   "outputs": [
    {
     "name": "stdout",
     "output_type": "stream",
     "text": [
      "[[0.8973359  0.85728384 0.55825808 0.72443922]\n",
      " [0.0579166  0.47466011 0.54126977 0.48927843]]\n"
     ]
    }
   ],
   "source": [
    "# 2-D\n",
    "print(np.random.rand(2,4))"
   ]
  },
  {
   "cell_type": "code",
   "execution_count": 3,
   "id": "d7d5a2dd",
   "metadata": {},
   "outputs": [
    {
     "name": "stdout",
     "output_type": "stream",
     "text": [
      "[[[0.6691835  0.74920433 0.92789792]\n",
      "  [0.38186111 0.48318058 0.11997712]\n",
      "  [0.94816507 0.35285363 0.06919839]\n",
      "  [0.01980046 0.90260682 0.12560428]]\n",
      "\n",
      " [[0.89333511 0.00195878 0.98353108]\n",
      "  [0.30804633 0.40863823 0.14425009]\n",
      "  [0.85473754 0.33936764 0.72737302]\n",
      "  [0.72437205 0.97389235 0.1788037 ]]\n",
      "\n",
      " [[0.3999504  0.28772945 0.22941301]\n",
      "  [0.44988793 0.94315643 0.89977879]\n",
      "  [0.33811112 0.2311793  0.85016338]\n",
      "  [0.51283104 0.15500867 0.20350507]]]\n"
     ]
    }
   ],
   "source": [
    "# 3-d\n",
    "print(np.random.rand(3,4,3))"
   ]
  },
  {
   "cell_type": "code",
   "execution_count": 7,
   "id": "a7ad08f9",
   "metadata": {},
   "outputs": [
    {
     "name": "stdout",
     "output_type": "stream",
     "text": [
      "9\n"
     ]
    }
   ],
   "source": [
    "# Return a random integer N such that a <= N <= b. Alias for randrange(a, b+1).\n",
    "print(np.random.randint(5,10))"
   ]
  },
  {
   "cell_type": "code",
   "execution_count": 8,
   "id": "e85ccca3",
   "metadata": {},
   "outputs": [
    {
     "name": "stdout",
     "output_type": "stream",
     "text": [
      "[5 7]\n"
     ]
    }
   ],
   "source": [
    "print(np.random.randint(5,10,2))"
   ]
  },
  {
   "cell_type": "code",
   "execution_count": 9,
   "id": "7cbac3e8",
   "metadata": {},
   "outputs": [
    {
     "name": "stdout",
     "output_type": "stream",
     "text": [
      "[13 13  6  6 15]\n"
     ]
    }
   ],
   "source": [
    "print(np.random.randint(5,20,5))"
   ]
  },
  {
   "cell_type": "markdown",
   "id": "f2e8e190",
   "metadata": {},
   "source": [
    "# Data types in numpy array"
   ]
  },
  {
   "cell_type": "code",
   "execution_count": 10,
   "id": "3a8b2a99",
   "metadata": {},
   "outputs": [
    {
     "name": "stdout",
     "output_type": "stream",
     "text": [
      "[12 34  5  6]\n",
      "Data type int32\n"
     ]
    }
   ],
   "source": [
    "import numpy as np\n",
    "v = np.array([12,34,5,6])\n",
    "print(v)\n",
    "print(\"Data type\",v.dtype)"
   ]
  },
  {
   "cell_type": "code",
   "execution_count": 11,
   "id": "6b463a46",
   "metadata": {},
   "outputs": [
    {
     "name": "stdout",
     "output_type": "stream",
     "text": [
      "[1.2  2.33 4.6  7.  ]\n",
      "Data type float64\n"
     ]
    }
   ],
   "source": [
    "v1 = np.array([1.2,2.33,4.6,7.0])\n",
    "print(v1)\n",
    "print(\"Data type\",v1.dtype)"
   ]
  },
  {
   "cell_type": "code",
   "execution_count": 12,
   "id": "5d03a6a3",
   "metadata": {},
   "outputs": [
    {
     "name": "stdout",
     "output_type": "stream",
     "text": [
      "['a' 's' 'r' 'y']\n",
      "Data type <U1\n"
     ]
    }
   ],
   "source": [
    "v1 = np.array(['a','s','r','y'])\n",
    "print(v1)\n",
    "print(\"Data type\",v1.dtype)"
   ]
  },
  {
   "cell_type": "code",
   "execution_count": 13,
   "id": "e40d2312",
   "metadata": {},
   "outputs": [
    {
     "name": "stdout",
     "output_type": "stream",
     "text": [
      "['dan' 'ran' 'can']\n",
      "Data type <U3\n"
     ]
    }
   ],
   "source": [
    "v1 = np.array([\"dan\",\"ran\",\"can\"])\n",
    "print(v1)\n",
    "print(\"Data type\",v1.dtype)"
   ]
  },
  {
   "cell_type": "code",
   "execution_count": 14,
   "id": "f81aa0a0",
   "metadata": {},
   "outputs": [
    {
     "name": "stdout",
     "output_type": "stream",
     "text": [
      "['a' 's' 'r' 'y' '1' '3' '4']\n",
      "Data type <U11\n"
     ]
    }
   ],
   "source": [
    "v1 = np.array(['a','s','r','y',1,3,4])\n",
    "print(v1)\n",
    "print(\"Data type\",v1.dtype)"
   ]
  },
  {
   "cell_type": "markdown",
   "id": "15f3c6e5",
   "metadata": {},
   "source": [
    "# type conversion"
   ]
  },
  {
   "cell_type": "code",
   "execution_count": 16,
   "id": "54850620",
   "metadata": {},
   "outputs": [
    {
     "name": "stdout",
     "output_type": "stream",
     "text": [
      "[12 34  5  6]\n",
      "Data type int8\n"
     ]
    }
   ],
   "source": [
    "v = np.array([12,34,5,6],dtype = np.int8)\n",
    "print(v)\n",
    "print(\"Data type\",v.dtype)"
   ]
  },
  {
   "cell_type": "code",
   "execution_count": 17,
   "id": "a2de3034",
   "metadata": {},
   "outputs": [
    {
     "name": "stdout",
     "output_type": "stream",
     "text": [
      "[12 34  5  6]\n",
      "Data type int16\n"
     ]
    }
   ],
   "source": [
    "v = np.array([12,34,5,6],dtype = np.int16)\n",
    "print(v)\n",
    "print(\"Data type\",v.dtype)"
   ]
  },
  {
   "cell_type": "code",
   "execution_count": 19,
   "id": "26c0352a",
   "metadata": {},
   "outputs": [
    {
     "name": "stdout",
     "output_type": "stream",
     "text": [
      "[12. 34.  5.  6.]\n",
      "Data type float32\n"
     ]
    }
   ],
   "source": [
    "# int to float\n",
    "v = np.array([12,34,5,6],dtype = \"f\")\n",
    "print(v)\n",
    "print(\"Data type\",v.dtype)"
   ]
  },
  {
   "cell_type": "code",
   "execution_count": 23,
   "id": "ceb36567",
   "metadata": {},
   "outputs": [
    {
     "name": "stdout",
     "output_type": "stream",
     "text": [
      "[12. 34.  5.  6.]\n",
      "[12. 34.  5.  6.]\n",
      "Data type float32\n",
      "Data type float16\n"
     ]
    }
   ],
   "source": [
    "# int to float\n",
    "v = np.array([12,34,5,6],dtype = \"f\")\n",
    "x = np.float16(v)\n",
    "\n",
    "print(v)\n",
    "print(x)\n",
    "print(\"Data type\",v.dtype)\n",
    "print(\"Data type\",x.dtype)"
   ]
  },
  {
   "cell_type": "markdown",
   "id": "81667bad",
   "metadata": {},
   "source": [
    "# shape and reshape\n"
   ]
  },
  {
   "cell_type": "code",
   "execution_count": 1,
   "id": "32c98ea6",
   "metadata": {},
   "outputs": [],
   "source": [
    "import numpy as np "
   ]
  },
  {
   "cell_type": "code",
   "execution_count": 3,
   "id": "001cb1d4",
   "metadata": {},
   "outputs": [
    {
     "name": "stdout",
     "output_type": "stream",
     "text": [
      "[[1 2]\n",
      " [2 3]]\n",
      "\n",
      "(2, 2)\n"
     ]
    }
   ],
   "source": [
    "var= np.array([[1,2],[2,3]])\n",
    "print(var)\n",
    "print()\n",
    "print(var.shape)"
   ]
  },
  {
   "cell_type": "code",
   "execution_count": 5,
   "id": "6e180734",
   "metadata": {},
   "outputs": [
    {
     "name": "stdout",
     "output_type": "stream",
     "text": [
      "[[1 2 7]\n",
      " [2 3 6]\n",
      " [1 4 9]]\n",
      "\n",
      "(3, 3)\n"
     ]
    }
   ],
   "source": [
    "var= np.array([[1,2,7],[2,3,6],[1,4,9]])\n",
    "print(var)\n",
    "print()\n",
    "print(var.shape)"
   ]
  },
  {
   "cell_type": "code",
   "execution_count": 7,
   "id": "15aded1b",
   "metadata": {},
   "outputs": [
    {
     "name": "stdout",
     "output_type": "stream",
     "text": [
      "[[[[1 2 3 4]]]]\n",
      "4\n",
      "(1, 1, 1, 4)\n"
     ]
    }
   ],
   "source": [
    "v = np.array([1,2,3,4],ndmin = 4)\n",
    "print(v)\n",
    "print(v.ndim)\n",
    "print(v.shape)"
   ]
  },
  {
   "cell_type": "code",
   "execution_count": 9,
   "id": "01f4e84a",
   "metadata": {},
   "outputs": [
    {
     "name": "stdout",
     "output_type": "stream",
     "text": [
      "[[[[ 1  2  3  4]\n",
      "   [12 34 45 66]]]]\n",
      "4\n",
      "(1, 1, 2, 4)\n"
     ]
    }
   ],
   "source": [
    "v = np.array([[1,2,3,4],[12,34,45,66]],ndmin = 4)\n",
    "print(v)\n",
    "print(v.ndim)\n",
    "print(v.shape)"
   ]
  },
  {
   "cell_type": "markdown",
   "id": "579b6e01",
   "metadata": {},
   "source": [
    "# reshape"
   ]
  },
  {
   "cell_type": "code",
   "execution_count": 11,
   "id": "85092c4a",
   "metadata": {},
   "outputs": [
    {
     "name": "stdout",
     "output_type": "stream",
     "text": [
      "[1 2 3 4]\n",
      "1\n",
      "\n",
      "[[1 2]\n",
      " [3 4]]\n",
      "2\n"
     ]
    }
   ],
   "source": [
    "v1 = np.array([1,2,3,4])\n",
    "print(v1)\n",
    "print(v1.ndim)\n",
    "print()\n",
    "x = v1.reshape(2,2)\n",
    "print(x)\n",
    "print(x.ndim)"
   ]
  },
  {
   "cell_type": "code",
   "execution_count": 13,
   "id": "19d3aef7",
   "metadata": {},
   "outputs": [
    {
     "name": "stdout",
     "output_type": "stream",
     "text": [
      "[ 1  2  3  4  3  4  5  9 12]\n",
      "1\n",
      "\n",
      "[[ 1  2  3]\n",
      " [ 4  3  4]\n",
      " [ 5  9 12]]\n",
      "2\n"
     ]
    }
   ],
   "source": [
    "v2 = np.array([1,2,3,4,3,4,5,9,12])\n",
    "print(v2)\n",
    "print(v2.ndim)\n",
    "print()\n",
    "x1 = v2.reshape(3,3)\n",
    "print(x1)\n",
    "print(x1.ndim)"
   ]
  },
  {
   "cell_type": "code",
   "execution_count": 14,
   "id": "81ac78d3",
   "metadata": {},
   "outputs": [
    {
     "name": "stdout",
     "output_type": "stream",
     "text": [
      "[ 1  2  3  4  3  4  5  9 12  5  6  7]\n",
      "1\n",
      "\n",
      "[[[ 1  2]\n",
      "  [ 3  4]\n",
      "  [ 3  4]]\n",
      "\n",
      " [[ 5  9]\n",
      "  [12  5]\n",
      "  [ 6  7]]]\n",
      "3\n"
     ]
    }
   ],
   "source": [
    "v3 = np.array([1,2,3,4,3,4,5,9,12,5,6,7])\n",
    "print(v3)\n",
    "print(v3.ndim)\n",
    "print()\n",
    "\n",
    "x3 = v3.reshape(2,3,2)\n",
    "\n",
    "print(x3)\n",
    "print(x3.ndim)"
   ]
  },
  {
   "cell_type": "code",
   "execution_count": 15,
   "id": "af3a20e2",
   "metadata": {},
   "outputs": [
    {
     "name": "stdout",
     "output_type": "stream",
     "text": [
      "[ 1  2  3  4  3  4  5  9 12  5  6  7]\n",
      "1\n",
      "\n",
      "[[[ 1  2]\n",
      "  [ 3  4]\n",
      "  [ 3  4]]\n",
      "\n",
      " [[ 5  9]\n",
      "  [12  5]\n",
      "  [ 6  7]]]\n",
      "3\n",
      "\n",
      "[ 1  2  3  4  3  4  5  9 12  5  6  7]\n",
      "1\n"
     ]
    }
   ],
   "source": [
    "v3 = np.array([1,2,3,4,3,4,5,9,12,5,6,7])\n",
    "print(v3)\n",
    "print(v3.ndim)\n",
    "print()\n",
    "\n",
    "x3 = v3.reshape(2,3,2)\n",
    "\n",
    "print(x3)\n",
    "print(x3.ndim)\n",
    "print()\n",
    "n = x3.reshape(-1)\n",
    "print(n)\n",
    "print(n.ndim)"
   ]
  },
  {
   "cell_type": "code",
   "execution_count": 16,
   "id": "16efad5e",
   "metadata": {},
   "outputs": [
    {
     "name": "stdout",
     "output_type": "stream",
     "text": [
      "[[ 1  2  3  4]\n",
      " [12 23 34 45]]\n",
      "2\n",
      "[ 1  2  3  4 12 23 34 45]\n",
      "1\n"
     ]
    }
   ],
   "source": [
    "ar2 = np.array([[1,2,3,4],[12,23,34,45]])\n",
    "print(ar2)\n",
    "print(ar2.ndim)\n",
    "n = ar2.reshape(-1)\n",
    "print(n)\n",
    "print(n.ndim)"
   ]
  },
  {
   "cell_type": "markdown",
   "id": "91a9316c",
   "metadata": {},
   "source": [
    "# np.arange\n",
    "### creating array \n",
    "### it works like loop range function (start,stop ,step)"
   ]
  },
  {
   "cell_type": "code",
   "execution_count": 14,
   "id": "28837b2f",
   "metadata": {},
   "outputs": [
    {
     "data": {
      "text/plain": [
       "array([1, 2, 3, 4, 5, 6, 7, 8, 9])"
      ]
     },
     "execution_count": 14,
     "metadata": {},
     "output_type": "execute_result"
    }
   ],
   "source": [
    "np.arange(1,10)"
   ]
  },
  {
   "cell_type": "code",
   "execution_count": 15,
   "id": "2ddd932d",
   "metadata": {},
   "outputs": [
    {
     "data": {
      "text/plain": [
       "array([1, 3, 5, 7, 9])"
      ]
     },
     "execution_count": 15,
     "metadata": {},
     "output_type": "execute_result"
    }
   ],
   "source": [
    "np.arange(1,10,2)"
   ]
  },
  {
   "cell_type": "code",
   "execution_count": null,
   "id": "eb17ea9a",
   "metadata": {},
   "outputs": [],
   "source": [
    "# with reshape\n",
    "reshape(row,column)"
   ]
  },
  {
   "cell_type": "code",
   "execution_count": 16,
   "id": "71e25de9",
   "metadata": {},
   "outputs": [
    {
     "data": {
      "text/plain": [
       "array([[ 1,  2],\n",
       "       [ 3,  4],\n",
       "       [ 5,  6],\n",
       "       [ 7,  8],\n",
       "       [ 9, 10]])"
      ]
     },
     "execution_count": 16,
     "metadata": {},
     "output_type": "execute_result"
    }
   ],
   "source": [
    "np.arange(1,11).reshape(5,2)"
   ]
  },
  {
   "cell_type": "code",
   "execution_count": 17,
   "id": "bba071b5",
   "metadata": {},
   "outputs": [
    {
     "data": {
      "text/plain": [
       "array([[ 1,  2,  3,  4,  5],\n",
       "       [ 6,  7,  8,  9, 10]])"
      ]
     },
     "execution_count": 17,
     "metadata": {},
     "output_type": "execute_result"
    }
   ],
   "source": [
    "np.arange(1,11).reshape(2,5)"
   ]
  },
  {
   "cell_type": "code",
   "execution_count": 18,
   "id": "736e4513",
   "metadata": {},
   "outputs": [
    {
     "data": {
      "text/plain": [
       "array([[ 1,  2,  3,  4],\n",
       "       [ 5,  6,  7,  8],\n",
       "       [ 9, 10, 11, 12]])"
      ]
     },
     "execution_count": 18,
     "metadata": {},
     "output_type": "execute_result"
    }
   ],
   "source": [
    "np.arange(1,13).reshape(3,4)"
   ]
  },
  {
   "cell_type": "code",
   "execution_count": 19,
   "id": "3dcfcb1a",
   "metadata": {},
   "outputs": [
    {
     "data": {
      "text/plain": [
       "array([[ 1,  2,  3,  4,  5,  6],\n",
       "       [ 7,  8,  9, 10, 11, 12]])"
      ]
     },
     "execution_count": 19,
     "metadata": {},
     "output_type": "execute_result"
    }
   ],
   "source": [
    "np.arange(1,13).reshape(2,6)"
   ]
  },
  {
   "cell_type": "code",
   "execution_count": 20,
   "id": "9efdbe81",
   "metadata": {},
   "outputs": [
    {
     "data": {
      "text/plain": [
       "array([[[[ 0,  1],\n",
       "         [ 2,  3]],\n",
       "\n",
       "        [[ 4,  5],\n",
       "         [ 6,  7]]],\n",
       "\n",
       "\n",
       "       [[[ 8,  9],\n",
       "         [10, 11]],\n",
       "\n",
       "        [[12, 13],\n",
       "         [14, 15]]]])"
      ]
     },
     "execution_count": 20,
     "metadata": {},
     "output_type": "execute_result"
    }
   ],
   "source": [
    "np.arange(16).reshape(2,2,2,2)"
   ]
  },
  {
   "cell_type": "markdown",
   "id": "de40c4b1",
   "metadata": {},
   "source": [
    "# Arithmetic operation"
   ]
  },
  {
   "cell_type": "markdown",
   "id": "380a58e2",
   "metadata": {},
   "source": [
    "# addition"
   ]
  },
  {
   "cell_type": "code",
   "execution_count": 21,
   "id": "91bdf1bc",
   "metadata": {},
   "outputs": [],
   "source": [
    "import numpy as np\n",
    "    "
   ]
  },
  {
   "cell_type": "code",
   "execution_count": 61,
   "id": "0d2dfb8f",
   "metadata": {},
   "outputs": [
    {
     "name": "stdout",
     "output_type": "stream",
     "text": [
      "[3 5 7 9]\n",
      "\n",
      "[3 4 5 6]\n"
     ]
    }
   ],
   "source": [
    "x = np.array([1,2,3,4])\n",
    "y = np.array([2,3,4,5])\n",
    "add1 = x+y\n",
    "print(add1)\n",
    "print()\n",
    "print(x+2)"
   ]
  },
  {
   "cell_type": "code",
   "execution_count": 35,
   "id": "276b8dd3",
   "metadata": {},
   "outputs": [
    {
     "name": "stdout",
     "output_type": "stream",
     "text": [
      "[3 5 7 9]\n"
     ]
    }
   ],
   "source": [
    "x = np.array([1,2,3,4])\n",
    "y = np.array([2,3,4,5])\n",
    "add1 = np.add(x,y)\n",
    "print(add1)"
   ]
  },
  {
   "cell_type": "code",
   "execution_count": 23,
   "id": "1eef5149",
   "metadata": {},
   "outputs": [
    {
     "name": "stdout",
     "output_type": "stream",
     "text": [
      "[4 5 6 7]\n"
     ]
    }
   ],
   "source": [
    "x = np.array([1,2,3,4])\n",
    "add1 = x+3\n",
    "print(add1)"
   ]
  },
  {
   "cell_type": "code",
   "execution_count": 24,
   "id": "f1546bd5",
   "metadata": {},
   "outputs": [
    {
     "name": "stdout",
     "output_type": "stream",
     "text": [
      "[[6 4 9 8]\n",
      " [4 4 7 9]]\n"
     ]
    }
   ],
   "source": [
    "ar1 = np.array([[1,2,6,4],[2,2,4,5]])\n",
    "ar2 = np.array([[5,2,3,4],[2,2,3,4]])\n",
    "print(ar1+ar2)"
   ]
  },
  {
   "cell_type": "markdown",
   "id": "ccf89299",
   "metadata": {},
   "source": [
    "# subtraction"
   ]
  },
  {
   "cell_type": "code",
   "execution_count": 62,
   "id": "ab9e1f01",
   "metadata": {},
   "outputs": [
    {
     "name": "stdout",
     "output_type": "stream",
     "text": [
      "[-1 -1 -1 -1]\n",
      "\n",
      "[-1  0  1  2]\n"
     ]
    }
   ],
   "source": [
    "x = np.array([1,2,3,4])\n",
    "y = np.array([2,3,4,5])\n",
    "sub1 = x-y\n",
    "print(sub1)\n",
    "print()\n",
    "print(x-2)"
   ]
  },
  {
   "cell_type": "code",
   "execution_count": 36,
   "id": "c029a2f3",
   "metadata": {},
   "outputs": [
    {
     "name": "stdout",
     "output_type": "stream",
     "text": [
      "[-1 -1 -1 -1]\n"
     ]
    }
   ],
   "source": [
    "x = np.array([1,2,3,4])\n",
    "y = np.array([2,3,4,5])\n",
    "sub1 = np.subtract(x,y)\n",
    "print(sub1)"
   ]
  },
  {
   "cell_type": "code",
   "execution_count": 26,
   "id": "f08fa448",
   "metadata": {},
   "outputs": [
    {
     "name": "stdout",
     "output_type": "stream",
     "text": [
      "[[-4  0  3  0]\n",
      " [ 0  0  1  1]]\n"
     ]
    }
   ],
   "source": [
    "ar1 = np.array([[1,2,6,4],[2,2,4,5]])\n",
    "ar2 = np.array([[5,2,3,4],[2,2,3,4]])\n",
    "print(ar1-ar2)"
   ]
  },
  {
   "cell_type": "code",
   "execution_count": 28,
   "id": "a33ae489",
   "metadata": {},
   "outputs": [
    {
     "name": "stdout",
     "output_type": "stream",
     "text": [
      "[1 2 3 4]\n"
     ]
    }
   ],
   "source": [
    "x = np.array([11,12,13,14])\n",
    "sub1 = x-10\n",
    "print(sub1)"
   ]
  },
  {
   "cell_type": "markdown",
   "id": "09d51a91",
   "metadata": {},
   "source": [
    "# multiple"
   ]
  },
  {
   "cell_type": "code",
   "execution_count": 64,
   "id": "bffd0e7e",
   "metadata": {},
   "outputs": [
    {
     "name": "stdout",
     "output_type": "stream",
     "text": [
      "[[ 5  4 18 16]\n",
      " [ 4  4 12 20]]\n",
      "\n",
      "[[ 4  8 24 16]\n",
      " [ 8  8 16 20]]\n"
     ]
    }
   ],
   "source": [
    "ar1 = np.array([[1,2,6,4],[2,2,4,5]])\n",
    "ar2 = np.array([[5,2,3,4],[2,2,3,4]])\n",
    "print(ar1*ar2)\n",
    "print()\n",
    "print(ar1*4)"
   ]
  },
  {
   "cell_type": "code",
   "execution_count": 39,
   "id": "c187310a",
   "metadata": {},
   "outputs": [
    {
     "name": "stdout",
     "output_type": "stream",
     "text": [
      "[[ 5  4 18 16]\n",
      " [ 4  4 12 20]]\n"
     ]
    }
   ],
   "source": [
    "ar1 = np.array([[1,2,6,4],[2,2,4,5]])\n",
    "ar2 = np.array([[5,2,3,4],[2,2,3,4]])\n",
    "mul = np.multiply(ar1,ar2)\n",
    "print(mul)"
   ]
  },
  {
   "cell_type": "code",
   "execution_count": 32,
   "id": "825b7e76",
   "metadata": {},
   "outputs": [
    {
     "name": "stdout",
     "output_type": "stream",
     "text": [
      "[110 120 130 140]\n"
     ]
    }
   ],
   "source": [
    "x = np.array([11,12,13,14])\n",
    "sub1 = x*10\n",
    "print(sub1)"
   ]
  },
  {
   "cell_type": "code",
   "execution_count": 31,
   "id": "203adc5e",
   "metadata": {},
   "outputs": [
    {
     "name": "stdout",
     "output_type": "stream",
     "text": [
      "[ 2  6 12 20]\n"
     ]
    }
   ],
   "source": [
    "x = np.array([1,2,3,4])\n",
    "y = np.array([2,3,4,5])\n",
    "sub1 = x*y\n",
    "print(sub1)"
   ]
  },
  {
   "cell_type": "markdown",
   "id": "240aaeb3",
   "metadata": {},
   "source": [
    "# divide"
   ]
  },
  {
   "cell_type": "code",
   "execution_count": 33,
   "id": "606505ae",
   "metadata": {},
   "outputs": [
    {
     "name": "stdout",
     "output_type": "stream",
     "text": [
      "[5.5 6.  6.5 7. ]\n"
     ]
    }
   ],
   "source": [
    "x = np.array([11,12,13,14])\n",
    "sub1 = x/2\n",
    "print(sub1)\n"
   ]
  },
  {
   "cell_type": "code",
   "execution_count": 34,
   "id": "e8802bb8",
   "metadata": {},
   "outputs": [
    {
     "name": "stdout",
     "output_type": "stream",
     "text": [
      "[1 2 0 1]\n"
     ]
    }
   ],
   "source": [
    "x = np.array([1,2,3,4])\n",
    "sub1 = x%3\n",
    "print(sub1)"
   ]
  },
  {
   "cell_type": "code",
   "execution_count": 40,
   "id": "df3b31f2",
   "metadata": {},
   "outputs": [
    {
     "name": "stdout",
     "output_type": "stream",
     "text": [
      "[3.66666667 4.         4.33333333 4.66666667]\n"
     ]
    }
   ],
   "source": [
    "x = np.array([11,12,13,14])\n",
    "d = np.divide(x,3)\n",
    "print(d)"
   ]
  },
  {
   "cell_type": "code",
   "execution_count": 65,
   "id": "ef97db6a",
   "metadata": {},
   "outputs": [],
   "source": [
    "# Logical operator"
   ]
  },
  {
   "cell_type": "code",
   "execution_count": 66,
   "id": "fc9888c2",
   "metadata": {},
   "outputs": [
    {
     "data": {
      "text/plain": [
       "array([ True, False, False, False])"
      ]
     },
     "execution_count": 66,
     "metadata": {},
     "output_type": "execute_result"
    }
   ],
   "source": [
    "x = np.array([11,12,13,14])\n",
    "x==11"
   ]
  },
  {
   "cell_type": "code",
   "execution_count": 68,
   "id": "be2c5510",
   "metadata": {},
   "outputs": [
    {
     "data": {
      "text/plain": [
       "array([[ 0,  1,  2,  3],\n",
       "       [ 4,  5,  6,  7],\n",
       "       [ 8,  9, 10, 11]])"
      ]
     },
     "execution_count": 68,
     "metadata": {},
     "output_type": "execute_result"
    }
   ],
   "source": [
    "x = np.arange(12).reshape(3,4)\n",
    "x"
   ]
  },
  {
   "cell_type": "code",
   "execution_count": 69,
   "id": "632db5be",
   "metadata": {},
   "outputs": [
    {
     "data": {
      "text/plain": [
       "array([[False, False, False, False],\n",
       "       [False, False, False,  True],\n",
       "       [ True,  True,  True,  True]])"
      ]
     },
     "execution_count": 69,
     "metadata": {},
     "output_type": "execute_result"
    }
   ],
   "source": [
    "x>6"
   ]
  },
  {
   "cell_type": "code",
   "execution_count": 70,
   "id": "2d2cafd8",
   "metadata": {},
   "outputs": [
    {
     "data": {
      "text/plain": [
       "array([[ True,  True,  True,  True],\n",
       "       [ True, False, False, False],\n",
       "       [False, False, False, False]])"
      ]
     },
     "execution_count": 70,
     "metadata": {},
     "output_type": "execute_result"
    }
   ],
   "source": [
    "x<=4"
   ]
  },
  {
   "cell_type": "markdown",
   "id": "71e49bce",
   "metadata": {},
   "source": [
    "# arithmetic function"
   ]
  },
  {
   "cell_type": "code",
   "execution_count": 41,
   "id": "a784c9e5",
   "metadata": {},
   "outputs": [],
   "source": [
    "import numpy as np"
   ]
  },
  {
   "cell_type": "code",
   "execution_count": 42,
   "id": "41ee657d",
   "metadata": {},
   "outputs": [
    {
     "name": "stdout",
     "output_type": "stream",
     "text": [
      "min 1\n",
      "max 5\n"
     ]
    }
   ],
   "source": [
    "x = np.array([1,2,3,4,5])\n",
    "print(\"min\",np.min(x))\n",
    "print(\"max\",np.max(x))"
   ]
  },
  {
   "cell_type": "code",
   "execution_count": 43,
   "id": "8b17a880",
   "metadata": {},
   "outputs": [],
   "source": [
    "# for position of element using mqax and min function"
   ]
  },
  {
   "cell_type": "code",
   "execution_count": 45,
   "id": "616b349f",
   "metadata": {},
   "outputs": [
    {
     "name": "stdout",
     "output_type": "stream",
     "text": [
      "min 1 position: 0\n",
      "max 5 position: 4\n"
     ]
    }
   ],
   "source": [
    "x = np.array([1,2,3,4,5])\n",
    "print(\"min\",np.min(x),'position:',np.argmin(x))\n",
    "print(\"max\",np.max(x),'position:',np.argmax(x))"
   ]
  },
  {
   "cell_type": "code",
   "execution_count": 46,
   "id": "3845d586",
   "metadata": {},
   "outputs": [
    {
     "name": "stdout",
     "output_type": "stream",
     "text": [
      "2\n"
     ]
    }
   ],
   "source": [
    "ar2 = np.array([[5,2,3,4],[7,2,3,4]])\n",
    "print(np.min(ar2))"
   ]
  },
  {
   "cell_type": "code",
   "execution_count": 47,
   "id": "d367f725",
   "metadata": {},
   "outputs": [
    {
     "name": "stdout",
     "output_type": "stream",
     "text": [
      "7\n"
     ]
    }
   ],
   "source": [
    "ar2 = np.array([[5,2,3,4],[7,2,3,4]])\n",
    "print(np.max(ar2))"
   ]
  },
  {
   "cell_type": "code",
   "execution_count": 49,
   "id": "ed161557",
   "metadata": {},
   "outputs": [
    {
     "name": "stdout",
     "output_type": "stream",
     "text": [
      "[2 2]\n"
     ]
    }
   ],
   "source": [
    "ar2 = np.array([[5,2,3,4],[7,2,3,4]])\n",
    "print(np.min(ar2, axis = 1)) #axis = 1 find min along with row "
   ]
  },
  {
   "cell_type": "code",
   "execution_count": 51,
   "id": "b0fb6e82",
   "metadata": {},
   "outputs": [
    {
     "name": "stdout",
     "output_type": "stream",
     "text": [
      "[5 2 3 4]\n"
     ]
    }
   ],
   "source": [
    "ar2 = np.array([[5,2,3,4],[7,2,3,4]])\n",
    "print(np.min(ar2, axis = 0))#axis = 0 find min along with collumn "
   ]
  },
  {
   "cell_type": "code",
   "execution_count": 52,
   "id": "ddd1eeae",
   "metadata": {},
   "outputs": [
    {
     "name": "stdout",
     "output_type": "stream",
     "text": [
      "[5 7]\n"
     ]
    }
   ],
   "source": [
    "ar2 = np.array([[5,2,3,4],[7,2,3,4]])\n",
    "print(np.max(ar2, axis = 1))"
   ]
  },
  {
   "cell_type": "code",
   "execution_count": 53,
   "id": "daefd3f8",
   "metadata": {},
   "outputs": [
    {
     "name": "stdout",
     "output_type": "stream",
     "text": [
      "[7 2 3 4]\n"
     ]
    }
   ],
   "source": [
    "ar2 = np.array([[5,2,3,4],[7,2,3,4]])\n",
    "print(np.max(ar2, axis = 0))"
   ]
  },
  {
   "cell_type": "code",
   "execution_count": 54,
   "id": "7e4e9b74",
   "metadata": {},
   "outputs": [
    {
     "name": "stdout",
     "output_type": "stream",
     "text": [
      "sqrt : [2. 3. 4. 5.]\n"
     ]
    }
   ],
   "source": [
    "x = np.array([4,9,16,25])\n",
    "print(\"sqrt :\",np.sqrt(x))\n"
   ]
  },
  {
   "cell_type": "code",
   "execution_count": 55,
   "id": "e3a66640",
   "metadata": {},
   "outputs": [
    {
     "name": "stdout",
     "output_type": "stream",
     "text": [
      "value : [-0.98803162  0.85090352 -0.30481062  0.89399666]\n",
      "value : [ 0.15425145  0.52532199 -0.95241298 -0.44807362]\n"
     ]
    }
   ],
   "source": [
    "val = np.array([30,45,60,90])\n",
    "print(\"value :\", np.sin(val))\n",
    "print(\"value :\", np.cos(val))"
   ]
  },
  {
   "cell_type": "code",
   "execution_count": 56,
   "id": "929b9046",
   "metadata": {},
   "outputs": [
    {
     "name": "stdout",
     "output_type": "stream",
     "text": [
      "value : [-6.4053312   1.61977519  0.32004039 -1.99520041]\n"
     ]
    }
   ],
   "source": [
    "print(\"value :\", np.tan(val))"
   ]
  },
  {
   "cell_type": "code",
   "execution_count": 58,
   "id": "f798757b",
   "metadata": {},
   "outputs": [
    {
     "name": "stdout",
     "output_type": "stream",
     "text": [
      "[1 2 3 4 5 6 7 8]\n",
      "36\n"
     ]
    }
   ],
   "source": [
    "y = np.arange(1,9)\n",
    "print(y)\n",
    "print(np.sum(y))"
   ]
  },
  {
   "cell_type": "code",
   "execution_count": 59,
   "id": "394fa512",
   "metadata": {},
   "outputs": [
    {
     "name": "stdout",
     "output_type": "stream",
     "text": [
      "[ 1  3  6 10 15 21 28 36]\n"
     ]
    }
   ],
   "source": [
    "print(np.cumsum(y))"
   ]
  },
  {
   "cell_type": "code",
   "execution_count": 71,
   "id": "ad55015f",
   "metadata": {},
   "outputs": [
    {
     "data": {
      "text/plain": [
       "array([[30., 60., 14.],\n",
       "       [39., 14., 17.],\n",
       "       [76., 53., 47.]])"
      ]
     },
     "execution_count": 71,
     "metadata": {},
     "output_type": "execute_result"
    }
   ],
   "source": [
    "a = np.random.random((3,3))\n",
    "a = np.round(a*100)\n",
    "a"
   ]
  },
  {
   "cell_type": "code",
   "execution_count": 72,
   "id": "cca836b8",
   "metadata": {},
   "outputs": [
    {
     "data": {
      "text/plain": [
       "44282224022400.0"
      ]
     },
     "execution_count": 72,
     "metadata": {},
     "output_type": "execute_result"
    }
   ],
   "source": [
    "np.prod(a)"
   ]
  },
  {
   "cell_type": "code",
   "execution_count": 73,
   "id": "fd694dd4",
   "metadata": {},
   "outputs": [
    {
     "data": {
      "text/plain": [
       "array([88920., 44520., 11186.])"
      ]
     },
     "execution_count": 73,
     "metadata": {},
     "output_type": "execute_result"
    }
   ],
   "source": [
    "np.prod(a , axis =0)"
   ]
  },
  {
   "cell_type": "code",
   "execution_count": 74,
   "id": "f15dff43",
   "metadata": {},
   "outputs": [
    {
     "data": {
      "text/plain": [
       "array([ 25200.,   9282., 189316.])"
      ]
     },
     "execution_count": 74,
     "metadata": {},
     "output_type": "execute_result"
    }
   ],
   "source": [
    "np.prod(a , axis =1)"
   ]
  },
  {
   "cell_type": "code",
   "execution_count": 75,
   "id": "1ffb18c1",
   "metadata": {},
   "outputs": [],
   "source": [
    "# mean/median/st/var"
   ]
  },
  {
   "cell_type": "code",
   "execution_count": 76,
   "id": "224aa372",
   "metadata": {},
   "outputs": [
    {
     "data": {
      "text/plain": [
       "38.888888888888886"
      ]
     },
     "execution_count": 76,
     "metadata": {},
     "output_type": "execute_result"
    }
   ],
   "source": [
    "# mean\n",
    "np.mean(a)"
   ]
  },
  {
   "cell_type": "code",
   "execution_count": 77,
   "id": "414d2edd",
   "metadata": {},
   "outputs": [
    {
     "data": {
      "text/plain": [
       "array([48.33333333, 42.33333333, 26.        ])"
      ]
     },
     "execution_count": 77,
     "metadata": {},
     "output_type": "execute_result"
    }
   ],
   "source": [
    "np.mean(a,axis = 0)"
   ]
  },
  {
   "cell_type": "code",
   "execution_count": 78,
   "id": "fdea6ecd",
   "metadata": {},
   "outputs": [
    {
     "data": {
      "text/plain": [
       "array([30., 17., 53.])"
      ]
     },
     "execution_count": 78,
     "metadata": {},
     "output_type": "execute_result"
    }
   ],
   "source": [
    "np.median(a, axis = 1)"
   ]
  },
  {
   "cell_type": "code",
   "execution_count": 79,
   "id": "c70b86eb",
   "metadata": {},
   "outputs": [
    {
     "data": {
      "text/plain": [
       "array([19.06713286, 11.14550233, 12.49888884])"
      ]
     },
     "execution_count": 79,
     "metadata": {},
     "output_type": "execute_result"
    }
   ],
   "source": [
    "np.std(a, axis = 1) # stander divition"
   ]
  },
  {
   "cell_type": "code",
   "execution_count": 80,
   "id": "ab919749",
   "metadata": {},
   "outputs": [
    {
     "data": {
      "text/plain": [
       "array([363.55555556, 124.22222222, 156.22222222])"
      ]
     },
     "execution_count": 80,
     "metadata": {},
     "output_type": "execute_result"
    }
   ],
   "source": [
    "np.var(a, axis = 1)  # vareince"
   ]
  },
  {
   "cell_type": "markdown",
   "id": "b5498802",
   "metadata": {},
   "source": [
    "# dot product\n",
    "### Algebraically, the dot product is defined as the sum of the products of the corresponding entries of the two sequences of numbers. Geometrically, it is the product of the two vectors’ Euclidean magnitudes and the cosine of the angle between them. \n",
    "## `Given vectors: [6, 2, -1] and [5, -8, 2] be a and b respectively.\n",
    "\n",
    "a.b = (6)(5) + (2)(-8) + (-1)(2)\n",
    "\n",
    "a.b = 30 – 16 – 2\n",
    "\n",
    "a.b = 12"
   ]
  },
  {
   "cell_type": "code",
   "execution_count": 83,
   "id": "517c2086",
   "metadata": {},
   "outputs": [
    {
     "data": {
      "text/plain": [
       "array([ 6,  2, -1])"
      ]
     },
     "execution_count": 83,
     "metadata": {},
     "output_type": "execute_result"
    }
   ],
   "source": [
    "x = np.array([6, 2, -1])\n",
    "x"
   ]
  },
  {
   "cell_type": "code",
   "execution_count": 84,
   "id": "531e4f1e",
   "metadata": {},
   "outputs": [
    {
     "data": {
      "text/plain": [
       "array([ 5, -8,  2])"
      ]
     },
     "execution_count": 84,
     "metadata": {},
     "output_type": "execute_result"
    }
   ],
   "source": [
    "y = np.array([5, -8, 2])\n",
    "y"
   ]
  },
  {
   "cell_type": "code",
   "execution_count": 85,
   "id": "95c2af42",
   "metadata": {},
   "outputs": [
    {
     "data": {
      "text/plain": [
       "12"
      ]
     },
     "execution_count": 85,
     "metadata": {},
     "output_type": "execute_result"
    }
   ],
   "source": [
    "np.dot(x,y)"
   ]
  },
  {
   "cell_type": "code",
   "execution_count": 87,
   "id": "f803c9ba",
   "metadata": {},
   "outputs": [],
   "source": [
    "x = np.arange(12).reshape(3,4)\n",
    "v = np.arange(12,24).reshape(4,3)"
   ]
  },
  {
   "cell_type": "code",
   "execution_count": 88,
   "id": "40f02faa",
   "metadata": {},
   "outputs": [
    {
     "data": {
      "text/plain": [
       "array([[164, 203, 242, 281],\n",
       "       [200, 248, 296, 344],\n",
       "       [236, 293, 350, 407],\n",
       "       [272, 338, 404, 470]])"
      ]
     },
     "execution_count": 88,
     "metadata": {},
     "output_type": "execute_result"
    }
   ],
   "source": [
    "np.dot(v,x)"
   ]
  },
  {
   "cell_type": "markdown",
   "id": "fc5b5762",
   "metadata": {},
   "source": [
    "## log and exponent"
   ]
  },
  {
   "cell_type": "code",
   "execution_count": 89,
   "id": "a964a058",
   "metadata": {},
   "outputs": [
    {
     "name": "stderr",
     "output_type": "stream",
     "text": [
      "C:\\Users\\DESKTOP\\AppData\\Local\\Temp\\ipykernel_1156\\3640966859.py:2: RuntimeWarning: invalid value encountered in log\n",
      "  np.log(x1)\n"
     ]
    },
    {
     "data": {
      "text/plain": [
       "array([1.79175947, 0.69314718,        nan])"
      ]
     },
     "execution_count": 89,
     "metadata": {},
     "output_type": "execute_result"
    }
   ],
   "source": [
    "x1 = np.array([6, 2, -1])\n",
    "np.log(x1)"
   ]
  },
  {
   "cell_type": "code",
   "execution_count": 90,
   "id": "d54c0322",
   "metadata": {},
   "outputs": [
    {
     "data": {
      "text/plain": [
       "array([4.03428793e+02, 7.38905610e+00, 3.67879441e-01])"
      ]
     },
     "execution_count": 90,
     "metadata": {},
     "output_type": "execute_result"
    }
   ],
   "source": [
    "np.exp(x1)"
   ]
  },
  {
   "cell_type": "markdown",
   "id": "7f5cf5d0",
   "metadata": {},
   "source": [
    "# floor()\n",
    "### 1- floor rounds up to the nearest Integer which can be equal to or below the actual value\n",
    "### 2- In the case of a positive number, anything between x.01 to x.99 will be converted to a lower number ie x.00 whereas x.00 will remain the same x.00\n",
    "### 3- In the case of a negative number, anything between -x.01 to -x.99 will be converted to a lower number ie -x-1.00 whereas -x.00 will remain the same -x.00"
   ]
  },
  {
   "cell_type": "code",
   "execution_count": 93,
   "id": "d68e0a27",
   "metadata": {},
   "outputs": [
    {
     "name": "stdout",
     "output_type": "stream",
     "text": [
      "3.0\n",
      "3.0\n",
      "3.0\n",
      "-3.0\n",
      "-4.0\n",
      "-4.0\n"
     ]
    }
   ],
   "source": [
    "print(np.floor(3.00))\n",
    "\n",
    "print(np.floor(3.01))\n",
    "\n",
    "print(np.floor(3.99))\n",
    "    \n",
    "print(np.floor(-3.00))\n",
    "\n",
    "print(np.floor(-3.01))\n",
    "\n",
    "print(np.floor(-3.99))\n"
   ]
  },
  {
   "cell_type": "markdown",
   "id": "c670e0e7",
   "metadata": {},
   "source": [
    "# round()\n",
    "### 1- round rounds up to the nearest Integer which can be above or below or even equal to the actual value.\n",
    "### 2- In the case of a positive number, anything which is equal to or below x.49 will be converted to a lower number ie x.00 whereas anything which is equal to or more than x.5 will be converted to a higher number ie x+1.00\n",
    "### 3- In the case of a negative number, anything which is equal to or below -x.5 will be converted to a lower number ie -x-1.00 whereas anything which is equal to or more than -x.49 will be converted to a higher number ie -x.00"
   ]
  },
  {
   "cell_type": "code",
   "execution_count": 96,
   "id": "ac96f67b",
   "metadata": {},
   "outputs": [
    {
     "name": "stdout",
     "output_type": "stream",
     "text": [
      "3.0\n",
      "3.0\n",
      "4.0\n",
      "-3.0\n",
      "-3.0\n",
      "-4.0\n"
     ]
    }
   ],
   "source": [
    "print(np.round(3.00))\n",
    "#this will print: 3\n",
    "\n",
    "print(np.round(3.49))\n",
    "#this will print: 3\n",
    "\n",
    "print(np.round(3.5))\n",
    "#this will print: 4\n",
    "\n",
    "print(np.round(-3.00))\n",
    "#this will print: -3\n",
    "\n",
    "print(np.round(-3.49))\n",
    "#this will print: -3\n",
    "\n",
    "print(np.round(-3.5))\n",
    "#this will print: -4"
   ]
  },
  {
   "cell_type": "markdown",
   "id": "c9688ad0",
   "metadata": {},
   "source": [
    "# ceil()\n",
    "### - ceil rounds up to the nearest Integer which can be equal to or above the actual value.\n",
    "### - In the case of a positive number, anything between x.01 to x.99 will be converted to an upper number ie x+1.00 whereas x.00 will remain the same x.00\n",
    "### - In the case of a negative number, anything between -x.01 to -x.99 will be converted to an upper number ie -x.00 whereas -x.00 will remain the same -x.00"
   ]
  },
  {
   "cell_type": "code",
   "execution_count": 97,
   "id": "51c34d93",
   "metadata": {},
   "outputs": [
    {
     "name": "stdout",
     "output_type": "stream",
     "text": [
      "3.0\n",
      "4.0\n",
      "4.0\n",
      "-3.0\n",
      "-3.0\n",
      "-3.0\n"
     ]
    }
   ],
   "source": [
    "print(np.ceil(3.00))\n",
    "\n",
    "\n",
    "print(np.ceil(3.01))\n",
    "print(np.ceil(3.99))\n",
    "\n",
    "print(np.ceil(-3.00))\n",
    "\n",
    "print(np.ceil(-3.01))\n",
    "\n",
    "print(np.ceil(-3.99))\n"
   ]
  },
  {
   "cell_type": "code",
   "execution_count": null,
   "id": "e67ac3a9",
   "metadata": {},
   "outputs": [],
   "source": []
  },
  {
   "cell_type": "code",
   "execution_count": null,
   "id": "ff6b1957",
   "metadata": {},
   "outputs": [],
   "source": []
  },
  {
   "cell_type": "code",
   "execution_count": null,
   "id": "8d274224",
   "metadata": {},
   "outputs": [],
   "source": []
  },
  {
   "cell_type": "code",
   "execution_count": null,
   "id": "4d206122",
   "metadata": {},
   "outputs": [],
   "source": []
  },
  {
   "cell_type": "markdown",
   "id": "b86d1328",
   "metadata": {},
   "source": [
    "# Broadcasting "
   ]
  },
  {
   "cell_type": "code",
   "execution_count": 2,
   "id": "af1e5ce7",
   "metadata": {},
   "outputs": [
    {
     "name": "stdout",
     "output_type": "stream",
     "text": [
      "(3,)\n",
      "\n",
      "[1 2 3]\n",
      "\n",
      "(3, 1)\n",
      "\n",
      "[[1]\n",
      " [2]\n",
      " [3]]\n",
      "\n",
      "[[2 3 4]\n",
      " [3 4 5]\n",
      " [4 5 6]]\n"
     ]
    }
   ],
   "source": [
    "import numpy as np\n",
    "a = np.array([1,2,3])\n",
    "print(a.shape)\n",
    "print()\n",
    "print(a)\n",
    "print()\n",
    "b = np.array([[1],[2],[3]])\n",
    "print(b.shape)\n",
    "print()\n",
    "print(b)\n",
    "print()\n",
    "print(a+b)"
   ]
  },
  {
   "cell_type": "code",
   "execution_count": 5,
   "id": "fc06eaf3",
   "metadata": {},
   "outputs": [
    {
     "name": "stdout",
     "output_type": "stream",
     "text": [
      "(2, 1)\n",
      "\n",
      "(2, 3)\n",
      "[[2 3 4]\n",
      " [3 4 5]]\n"
     ]
    }
   ],
   "source": [
    "x = np.array([[1],[2]])\n",
    "print(x.shape)\n",
    "print()\n",
    "y = np.array([[1,2,3],[1,2,3]])\n",
    "print(y.shape)\n",
    "print(x+y)"
   ]
  },
  {
   "cell_type": "markdown",
   "id": "ffe24021",
   "metadata": {},
   "source": [
    "# Indexing"
   ]
  },
  {
   "cell_type": "code",
   "execution_count": 6,
   "id": "95487388",
   "metadata": {},
   "outputs": [],
   "source": [
    "import numpy as np\n"
   ]
  },
  {
   "cell_type": "code",
   "execution_count": 7,
   "id": "40d7260e",
   "metadata": {},
   "outputs": [
    {
     "name": "stdout",
     "output_type": "stream",
     "text": [
      "7\n"
     ]
    }
   ],
   "source": [
    "var = np.array([3,7,9,5])\n",
    " #              0,1,2,3\n",
    "    #           -4,-3,-2,-1\n",
    "print(var[1])"
   ]
  },
  {
   "cell_type": "code",
   "execution_count": 8,
   "id": "36ccfdf0",
   "metadata": {},
   "outputs": [
    {
     "name": "stdout",
     "output_type": "stream",
     "text": [
      "5\n"
     ]
    }
   ],
   "source": [
    "print(var[3])"
   ]
  },
  {
   "cell_type": "code",
   "execution_count": 9,
   "id": "5ce90a04",
   "metadata": {},
   "outputs": [
    {
     "name": "stdout",
     "output_type": "stream",
     "text": [
      "3\n"
     ]
    }
   ],
   "source": [
    "print(var[-4])"
   ]
  },
  {
   "cell_type": "code",
   "execution_count": 10,
   "id": "491db702",
   "metadata": {},
   "outputs": [
    {
     "name": "stdout",
     "output_type": "stream",
     "text": [
      "9\n"
     ]
    }
   ],
   "source": [
    "print(var[-2])"
   ]
  },
  {
   "cell_type": "code",
   "execution_count": 11,
   "id": "306010a4",
   "metadata": {},
   "outputs": [
    {
     "name": "stdout",
     "output_type": "stream",
     "text": [
      "[5 9 7 3]\n"
     ]
    }
   ],
   "source": [
    "print(var[::-1])"
   ]
  },
  {
   "cell_type": "code",
   "execution_count": 12,
   "id": "37b1a973",
   "metadata": {},
   "outputs": [
    {
     "data": {
      "text/plain": [
       "numpy.ndarray"
      ]
     },
     "execution_count": 12,
     "metadata": {},
     "output_type": "execute_result"
    }
   ],
   "source": [
    "type(var)"
   ]
  },
  {
   "cell_type": "code",
   "execution_count": 13,
   "id": "e7e8d740",
   "metadata": {},
   "outputs": [
    {
     "name": "stdout",
     "output_type": "stream",
     "text": [
      "9\n"
     ]
    }
   ],
   "source": [
    "print(var[-2])"
   ]
  },
  {
   "cell_type": "code",
   "execution_count": 18,
   "id": "e79ea24a",
   "metadata": {},
   "outputs": [
    {
     "name": "stdout",
     "output_type": "stream",
     "text": [
      "[[ 2  3  4]\n",
      " [ 5  8 12]]\n",
      "2\n",
      "\n",
      "index value : 4\n"
     ]
    }
   ],
   "source": [
    "num = np.array([[2,3,4],[5,8,12]])\n",
    "# here are two row with 0,1 index and col. 3 with 0,1,2 index\n",
    "print(num)\n",
    "print(num.ndim)\n",
    "print()\n",
    "print(\"index value :\",num[0,2])"
   ]
  },
  {
   "cell_type": "code",
   "execution_count": 19,
   "id": "51c773ce",
   "metadata": {},
   "outputs": [
    {
     "name": "stdout",
     "output_type": "stream",
     "text": [
      "index value : 12\n"
     ]
    }
   ],
   "source": [
    "print(\"index value :\",num[1,2])"
   ]
  },
  {
   "cell_type": "code",
   "execution_count": 21,
   "id": "16bcabd5",
   "metadata": {},
   "outputs": [
    {
     "name": "stdout",
     "output_type": "stream",
     "text": [
      "index value : 3\n"
     ]
    }
   ],
   "source": [
    "print(\"index value :\",num[-2,1])"
   ]
  },
  {
   "cell_type": "code",
   "execution_count": 22,
   "id": "781b0719",
   "metadata": {},
   "outputs": [
    {
     "name": "stdout",
     "output_type": "stream",
     "text": [
      "index value : 4\n"
     ]
    }
   ],
   "source": [
    "print(\"index value :\",num[-2,1])"
   ]
  },
  {
   "cell_type": "code",
   "execution_count": 23,
   "id": "c302f3b2",
   "metadata": {},
   "outputs": [
    {
     "name": "stdout",
     "output_type": "stream",
     "text": [
      "index value : 8\n"
     ]
    }
   ],
   "source": [
    "print(\"index value :\",num[-1,-2])"
   ]
  },
  {
   "cell_type": "code",
   "execution_count": 24,
   "id": "938eabef",
   "metadata": {},
   "outputs": [
    {
     "name": "stdout",
     "output_type": "stream",
     "text": [
      "index value : 12\n"
     ]
    }
   ],
   "source": [
    "print(\"index value :\",num[-1,-1])"
   ]
  },
  {
   "cell_type": "code",
   "execution_count": 25,
   "id": "96b7eabf",
   "metadata": {},
   "outputs": [
    {
     "name": "stdout",
     "output_type": "stream",
     "text": [
      "index value : [ 5  8 12]\n"
     ]
    }
   ],
   "source": [
    "print(\"index value :\",num[-1])"
   ]
  },
  {
   "cell_type": "code",
   "execution_count": 26,
   "id": "aadd15fc",
   "metadata": {},
   "outputs": [
    {
     "name": "stdout",
     "output_type": "stream",
     "text": [
      "index value : [2 3 4]\n"
     ]
    }
   ],
   "source": [
    "print(\"index value :\",num[0])"
   ]
  },
  {
   "cell_type": "code",
   "execution_count": 27,
   "id": "45704cc4",
   "metadata": {},
   "outputs": [
    {
     "name": "stdout",
     "output_type": "stream",
     "text": [
      "index value : [[ 5  8 12]\n",
      " [ 2  3  4]]\n"
     ]
    }
   ],
   "source": [
    "print(\"index value :\",num[::-1])"
   ]
  },
  {
   "cell_type": "code",
   "execution_count": 28,
   "id": "1e810910",
   "metadata": {},
   "outputs": [
    {
     "name": "stdout",
     "output_type": "stream",
     "text": [
      "2\n"
     ]
    }
   ],
   "source": [
    "s = np.array([[1,2,3]])\n",
    "print(s.ndim)"
   ]
  },
  {
   "cell_type": "code",
   "execution_count": 31,
   "id": "ca20a781",
   "metadata": {},
   "outputs": [
    {
     "name": "stdout",
     "output_type": "stream",
     "text": [
      "3\n"
     ]
    }
   ],
   "source": [
    "print(s[0,2])"
   ]
  },
  {
   "cell_type": "code",
   "execution_count": 32,
   "id": "c58da81b",
   "metadata": {},
   "outputs": [
    {
     "name": "stdout",
     "output_type": "stream",
     "text": [
      "[1 2 3]\n"
     ]
    }
   ],
   "source": [
    "print(s[0])"
   ]
  },
  {
   "cell_type": "code",
   "execution_count": 33,
   "id": "d221c0cc",
   "metadata": {},
   "outputs": [
    {
     "ename": "IndexError",
     "evalue": "index 1 is out of bounds for axis 0 with size 1",
     "output_type": "error",
     "traceback": [
      "\u001b[1;31m---------------------------------------------------------------------------\u001b[0m",
      "\u001b[1;31mIndexError\u001b[0m                                Traceback (most recent call last)",
      "Input \u001b[1;32mIn [33]\u001b[0m, in \u001b[0;36m<cell line: 1>\u001b[1;34m()\u001b[0m\n\u001b[1;32m----> 1\u001b[0m \u001b[38;5;28mprint\u001b[39m(\u001b[43ms\u001b[49m\u001b[43m[\u001b[49m\u001b[38;5;241;43m1\u001b[39;49m\u001b[43m]\u001b[49m)\n",
      "\u001b[1;31mIndexError\u001b[0m: index 1 is out of bounds for axis 0 with size 1"
     ]
    }
   ],
   "source": [
    "print(s[1])"
   ]
  },
  {
   "cell_type": "code",
   "execution_count": 34,
   "id": "23eda522",
   "metadata": {},
   "outputs": [
    {
     "name": "stdout",
     "output_type": "stream",
     "text": [
      "[[[12 13]\n",
      "  [14 11]]]\n"
     ]
    }
   ],
   "source": [
    "d3 = np.array([[[12,13],[14,11]]])\n",
    "print(d3)"
   ]
  },
  {
   "cell_type": "code",
   "execution_count": 35,
   "id": "bde62173",
   "metadata": {},
   "outputs": [
    {
     "name": "stdout",
     "output_type": "stream",
     "text": [
      "3\n"
     ]
    }
   ],
   "source": [
    "print(d3.ndim)"
   ]
  },
  {
   "cell_type": "code",
   "execution_count": 36,
   "id": "a78c730b",
   "metadata": {},
   "outputs": [
    {
     "name": "stdout",
     "output_type": "stream",
     "text": [
      "14\n"
     ]
    }
   ],
   "source": [
    "print(d3[0,1,0])"
   ]
  },
  {
   "cell_type": "code",
   "execution_count": 38,
   "id": "3054290a",
   "metadata": {},
   "outputs": [
    {
     "name": "stdout",
     "output_type": "stream",
     "text": [
      "12\n"
     ]
    }
   ],
   "source": [
    "print(d3[0,0,0])"
   ]
  },
  {
   "cell_type": "code",
   "execution_count": 39,
   "id": "825f4755",
   "metadata": {},
   "outputs": [
    {
     "name": "stdout",
     "output_type": "stream",
     "text": [
      "13\n"
     ]
    }
   ],
   "source": [
    "print(d3[0,0,1])"
   ]
  },
  {
   "cell_type": "code",
   "execution_count": 43,
   "id": "2b528c86",
   "metadata": {},
   "outputs": [
    {
     "name": "stdout",
     "output_type": "stream",
     "text": [
      "[[[12 23 32  1]\n",
      "  [23 11 24  2]]\n",
      "\n",
      " [[45 53 25  3]\n",
      "  [14 17 86  4]]]\n"
     ]
    }
   ],
   "source": [
    "n1 = np.array([[[12,23,32,1],\n",
    "               [23,11,24,2]],\n",
    "               [[45,53,25,3],\n",
    "               [14,17,86,4]]])\n",
    "print(n1)"
   ]
  },
  {
   "cell_type": "code",
   "execution_count": 44,
   "id": "cf87acfa",
   "metadata": {},
   "outputs": [
    {
     "name": "stdout",
     "output_type": "stream",
     "text": [
      "86\n"
     ]
    }
   ],
   "source": [
    "print(n1[1,1,2])"
   ]
  },
  {
   "cell_type": "code",
   "execution_count": 45,
   "id": "3664ec7e",
   "metadata": {},
   "outputs": [
    {
     "name": "stdout",
     "output_type": "stream",
     "text": [
      "17\n"
     ]
    }
   ],
   "source": [
    "print(n1[1,1,-3])"
   ]
  },
  {
   "cell_type": "code",
   "execution_count": 46,
   "id": "66413fe5",
   "metadata": {},
   "outputs": [
    {
     "name": "stdout",
     "output_type": "stream",
     "text": [
      "23\n"
     ]
    }
   ],
   "source": [
    "print(n1[0,0,-3])"
   ]
  },
  {
   "cell_type": "code",
   "execution_count": 47,
   "id": "9a18dcac",
   "metadata": {},
   "outputs": [
    {
     "name": "stdout",
     "output_type": "stream",
     "text": [
      "12\n"
     ]
    }
   ],
   "source": [
    "print(n1[0,0,0])"
   ]
  },
  {
   "cell_type": "code",
   "execution_count": 48,
   "id": "01c1ef0f",
   "metadata": {},
   "outputs": [
    {
     "name": "stdout",
     "output_type": "stream",
     "text": [
      "17\n"
     ]
    }
   ],
   "source": [
    "print(n1[1,1,1])"
   ]
  },
  {
   "cell_type": "code",
   "execution_count": 49,
   "id": "cbbe767a",
   "metadata": {},
   "outputs": [
    {
     "name": "stdout",
     "output_type": "stream",
     "text": [
      "4\n"
     ]
    }
   ],
   "source": [
    "print(n1[-1,-1,-1])"
   ]
  },
  {
   "cell_type": "markdown",
   "id": "b11c72a1",
   "metadata": {},
   "source": [
    "# Slicing "
   ]
  },
  {
   "cell_type": "code",
   "execution_count": 50,
   "id": "3f56c1fe",
   "metadata": {},
   "outputs": [],
   "source": [
    "# x[start:stop:step]"
   ]
  },
  {
   "cell_type": "code",
   "execution_count": 51,
   "id": "f18d75be",
   "metadata": {},
   "outputs": [],
   "source": [
    "import numpy as np"
   ]
  },
  {
   "cell_type": "code",
   "execution_count": 53,
   "id": "de02c0c2",
   "metadata": {},
   "outputs": [
    {
     "name": "stdout",
     "output_type": "stream",
     "text": [
      "[1 2 3 4 5 6 7]\n",
      "\n",
      "2 to 5: [2 3 4]\n"
     ]
    }
   ],
   "source": [
    "y = np.array([1,2,3,4,5,6,7])\n",
    "  #           0,1,2,3,4,5,6\n",
    "print(y)\n",
    "print()\n",
    "print(\"2 to 5:\",y[1:4])"
   ]
  },
  {
   "cell_type": "code",
   "execution_count": 3,
   "id": "9f37719f",
   "metadata": {},
   "outputs": [],
   "source": [
    "import numpy as np"
   ]
  },
  {
   "cell_type": "code",
   "execution_count": 4,
   "id": "829dadea",
   "metadata": {},
   "outputs": [
    {
     "name": "stdout",
     "output_type": "stream",
     "text": [
      "[7. 6. 5. 4. 3. 2. 1.]\n"
     ]
    }
   ],
   "source": [
    "\n",
    "y = np.array([1,2,3,4,5,6,7],float)\n",
    "print(y[::-1])"
   ]
  },
  {
   "cell_type": "code",
   "execution_count": 54,
   "id": "181f86bc",
   "metadata": {},
   "outputs": [
    {
     "name": "stdout",
     "output_type": "stream",
     "text": [
      "[2 3 4 5 6]\n"
     ]
    }
   ],
   "source": [
    "print(y[1:6])"
   ]
  },
  {
   "cell_type": "code",
   "execution_count": 55,
   "id": "99a2f9ee",
   "metadata": {},
   "outputs": [
    {
     "name": "stdout",
     "output_type": "stream",
     "text": [
      "[4 5 6 7]\n"
     ]
    }
   ],
   "source": [
    "print(y[3:])"
   ]
  },
  {
   "cell_type": "code",
   "execution_count": 57,
   "id": "0d37e449",
   "metadata": {},
   "outputs": [
    {
     "name": "stdout",
     "output_type": "stream",
     "text": [
      "[1 2 3 4]\n"
     ]
    }
   ],
   "source": [
    "print(y[:4])"
   ]
  },
  {
   "cell_type": "code",
   "execution_count": 58,
   "id": "f2b18ca9",
   "metadata": {},
   "outputs": [
    {
     "name": "stdout",
     "output_type": "stream",
     "text": [
      "[]\n"
     ]
    }
   ],
   "source": [
    "print(y[-1:6])"
   ]
  },
  {
   "cell_type": "code",
   "execution_count": 60,
   "id": "ffd34594",
   "metadata": {},
   "outputs": [
    {
     "name": "stdout",
     "output_type": "stream",
     "text": [
      "[5 6]\n"
     ]
    }
   ],
   "source": [
    "print(y[-3:-1])"
   ]
  },
  {
   "cell_type": "code",
   "execution_count": 62,
   "id": "f578a079",
   "metadata": {},
   "outputs": [
    {
     "name": "stdout",
     "output_type": "stream",
     "text": [
      "[1 2 3 4]\n"
     ]
    }
   ],
   "source": [
    "print(y[:-3])"
   ]
  },
  {
   "cell_type": "code",
   "execution_count": 63,
   "id": "0cf912ee",
   "metadata": {},
   "outputs": [
    {
     "name": "stdout",
     "output_type": "stream",
     "text": [
      "[7 6 5 4 3 2 1]\n"
     ]
    }
   ],
   "source": [
    "print(y[::-1])"
   ]
  },
  {
   "cell_type": "code",
   "execution_count": 64,
   "id": "cb387629",
   "metadata": {},
   "outputs": [
    {
     "name": "stdout",
     "output_type": "stream",
     "text": [
      "[2 4]\n"
     ]
    }
   ],
   "source": [
    "print(y[1:5:2])"
   ]
  },
  {
   "cell_type": "code",
   "execution_count": 65,
   "id": "1c86cd96",
   "metadata": {},
   "outputs": [
    {
     "name": "stdout",
     "output_type": "stream",
     "text": [
      "[2 5]\n"
     ]
    }
   ],
   "source": [
    "print(y[1:5:3])"
   ]
  },
  {
   "cell_type": "code",
   "execution_count": 71,
   "id": "0f29fb7f",
   "metadata": {},
   "outputs": [
    {
     "name": "stdout",
     "output_type": "stream",
     "text": [
      "[7 5]\n"
     ]
    }
   ],
   "source": [
    "print(y[-1:-5:-2])"
   ]
  },
  {
   "cell_type": "code",
   "execution_count": 68,
   "id": "f0c69042",
   "metadata": {},
   "outputs": [],
   "source": [
    "y = np.array([1,2,3,4,5,6,7])"
   ]
  },
  {
   "cell_type": "code",
   "execution_count": 72,
   "id": "1afcfcdf",
   "metadata": {},
   "outputs": [
    {
     "name": "stdout",
     "output_type": "stream",
     "text": [
      "[7 5 3]\n"
     ]
    }
   ],
   "source": [
    "print(y[-1:1:-2])"
   ]
  },
  {
   "cell_type": "code",
   "execution_count": 76,
   "id": "9a9a5140",
   "metadata": {},
   "outputs": [
    {
     "name": "stdout",
     "output_type": "stream",
     "text": [
      "[2 3 4 5 6]\n"
     ]
    }
   ],
   "source": [
    "print(y[1:-1])"
   ]
  },
  {
   "cell_type": "code",
   "execution_count": 77,
   "id": "f86ddc3b",
   "metadata": {},
   "outputs": [
    {
     "name": "stdout",
     "output_type": "stream",
     "text": [
      "[[11 21 31]\n",
      " [21 22 23]]\n"
     ]
    }
   ],
   "source": [
    "y2 = np.array([[11,21,31],[21,22,23]])\n",
    "print(y2)"
   ]
  },
  {
   "cell_type": "code",
   "execution_count": 79,
   "id": "c56a56de",
   "metadata": {},
   "outputs": [
    {
     "name": "stdout",
     "output_type": "stream",
     "text": [
      "[21]\n"
     ]
    }
   ],
   "source": [
    "print(y2[0,1:2])"
   ]
  },
  {
   "cell_type": "code",
   "execution_count": 80,
   "id": "ef0029b3",
   "metadata": {},
   "outputs": [
    {
     "name": "stdout",
     "output_type": "stream",
     "text": [
      "[22]\n"
     ]
    }
   ],
   "source": [
    "print(y2[1,1:2])"
   ]
  },
  {
   "cell_type": "code",
   "execution_count": 81,
   "id": "2e920b21",
   "metadata": {},
   "outputs": [
    {
     "name": "stdout",
     "output_type": "stream",
     "text": [
      "[[11 21 31  1  3 56  7  5]\n",
      " [12 13 14 24 55 21 22 23]\n",
      " [33 22 44 55 66 77 88 99]]\n"
     ]
    }
   ],
   "source": [
    "y3 = np.array([[11,21,31,1,3,56,7,5],[12,13,14,24,55,21,22,23],[33,22,44,55,66,77,88,99]])\n",
    "print(y3)"
   ]
  },
  {
   "cell_type": "code",
   "execution_count": 82,
   "id": "c8740385",
   "metadata": {},
   "outputs": [
    {
     "name": "stdout",
     "output_type": "stream",
     "text": [
      "[99 88 77 66 55 44 22 33]\n"
     ]
    }
   ],
   "source": [
    "print(y3[2,::-1])"
   ]
  },
  {
   "cell_type": "code",
   "execution_count": 83,
   "id": "04c6bbb6",
   "metadata": {},
   "outputs": [
    {
     "name": "stdout",
     "output_type": "stream",
     "text": [
      "[99 77 55 22]\n"
     ]
    }
   ],
   "source": [
    "print(y3[2,::-2])"
   ]
  },
  {
   "cell_type": "code",
   "execution_count": 84,
   "id": "636aebde",
   "metadata": {},
   "outputs": [
    {
     "name": "stdout",
     "output_type": "stream",
     "text": [
      "[66 77 88]\n"
     ]
    }
   ],
   "source": [
    "print(y3[2,-4:-1])"
   ]
  },
  {
   "cell_type": "code",
   "execution_count": 85,
   "id": "f69d9d4a",
   "metadata": {},
   "outputs": [
    {
     "name": "stdout",
     "output_type": "stream",
     "text": [
      "[13 55]\n"
     ]
    }
   ],
   "source": [
    "print(y3[1,1:7:3])"
   ]
  },
  {
   "cell_type": "markdown",
   "id": "92d3b92a",
   "metadata": {},
   "source": [
    "# Iterating"
   ]
  },
  {
   "cell_type": "code",
   "execution_count": 86,
   "id": "c0f8932d",
   "metadata": {},
   "outputs": [
    {
     "name": "stdout",
     "output_type": "stream",
     "text": [
      "[1 2 3 4 5 6 7]\n",
      "iteration\n",
      "1\n",
      "2\n",
      "3\n",
      "4\n",
      "5\n",
      "6\n",
      "7\n"
     ]
    }
   ],
   "source": [
    "mun = np.array([1,2,3,4,5,6,7])\n",
    "print(mun)\n",
    "print(\"iteration\")\n",
    "for i in mun:\n",
    "    print(i)"
   ]
  },
  {
   "cell_type": "code",
   "execution_count": 91,
   "id": "104615f6",
   "metadata": {},
   "outputs": [
    {
     "name": "stdout",
     "output_type": "stream",
     "text": [
      "[[11 21 31  1  3 56  7  5]\n",
      " [12 13 14 24 55 21 22 23]\n",
      " [33 22 44 55 66 77 88 99]]\n",
      "\n",
      "[11 21 31  1  3 56  7  5]\n",
      "[12 13 14 24 55 21 22 23]\n",
      "[33 22 44 55 66 77 88 99]\n"
     ]
    }
   ],
   "source": [
    "y3 = np.array([[11,21,31,1,3,56,7,5],[12,13,14,24,55,21,22,23],[33,22,44,55,66,77,88,99]])\n",
    "print(y3)\n",
    "print()\n",
    "\n",
    "for i in y3:\n",
    "    print(i)"
   ]
  },
  {
   "cell_type": "code",
   "execution_count": 92,
   "id": "fd947188",
   "metadata": {},
   "outputs": [
    {
     "name": "stdout",
     "output_type": "stream",
     "text": [
      "[[11 21 31]\n",
      " [21 22 23]]\n",
      "\n",
      "[11 21 31]\n",
      "[21 22 23]\n"
     ]
    }
   ],
   "source": [
    "y2 = np.array([[11,21,31],[21,22,23]])\n",
    "print(y2)\n",
    "print()\n",
    "for j in y2:\n",
    "    print(j)"
   ]
  },
  {
   "cell_type": "code",
   "execution_count": 93,
   "id": "913886e8",
   "metadata": {},
   "outputs": [
    {
     "name": "stdout",
     "output_type": "stream",
     "text": [
      "[[11 21 31]\n",
      " [21 22 23]]\n",
      "\n",
      "[11 21 31]\n",
      "[21 22 23]\n",
      "\n",
      "11\n",
      "21\n",
      "31\n",
      "21\n",
      "22\n",
      "23\n"
     ]
    }
   ],
   "source": [
    "y2 = np.array([[11,21,31],[21,22,23]])\n",
    "print(y2)\n",
    "print()\n",
    "for j in y2:\n",
    "    print(j)\n",
    "print()\n",
    "for h in y2:\n",
    "    for l in h:\n",
    "        print(l)"
   ]
  },
  {
   "cell_type": "code",
   "execution_count": 96,
   "id": "2ef6242f",
   "metadata": {},
   "outputs": [
    {
     "name": "stdout",
     "output_type": "stream",
     "text": [
      "[[[12 23 32  1]\n",
      "  [23 11 24  2]]\n",
      "\n",
      " [[45 53 25  3]\n",
      "  [14 17 86  4]]]\n",
      "ofter\n",
      "[[12 23 32  1]\n",
      " [23 11 24  2]]\n",
      "[[45 53 25  3]\n",
      " [14 17 86  4]]\n"
     ]
    }
   ],
   "source": [
    "n1 = np.array([[[12,23,32,1],\n",
    "               [23,11,24,2]],\n",
    "               [[45,53,25,3],\n",
    "               [14,17,86,4]]])\n",
    "print(n1)\n",
    "print(\"ofter\")\n",
    "for i in n1:\n",
    "    print(i)"
   ]
  },
  {
   "cell_type": "code",
   "execution_count": 97,
   "id": "cdefe012",
   "metadata": {},
   "outputs": [
    {
     "name": "stdout",
     "output_type": "stream",
     "text": [
      "[[[12 23 32  1]\n",
      "  [23 11 24  2]]\n",
      "\n",
      " [[45 53 25  3]\n",
      "  [14 17 86  4]]]\n",
      "ofter\n",
      "12\n",
      "23\n",
      "32\n",
      "1\n",
      "23\n",
      "11\n",
      "24\n",
      "2\n",
      "45\n",
      "53\n",
      "25\n",
      "3\n",
      "14\n",
      "17\n",
      "86\n",
      "4\n"
     ]
    }
   ],
   "source": [
    "n1 = np.array([[[12,23,32,1],\n",
    "               [23,11,24,2]],\n",
    "               [[45,53,25,3],\n",
    "               [14,17,86,4]]])\n",
    "print(n1)\n",
    "print(\"ofter\")\n",
    "for i in n1:\n",
    "    for l in i:\n",
    "        for k in l:\n",
    "            print(k)\n"
   ]
  },
  {
   "cell_type": "code",
   "execution_count": 2,
   "id": "2d686c05",
   "metadata": {
    "scrolled": true
   },
   "outputs": [
    {
     "name": "stdout",
     "output_type": "stream",
     "text": [
      "[[[12 23 32  1]\n",
      "  [23 11 24  2]]\n",
      "\n",
      " [[45 53 25  3]\n",
      "  [14 17 86  4]]]\n",
      "ofter\n",
      "12\n",
      "23\n",
      "32\n",
      "1\n",
      "23\n",
      "11\n",
      "24\n",
      "2\n",
      "45\n",
      "53\n",
      "25\n",
      "3\n",
      "14\n",
      "17\n",
      "86\n",
      "4\n",
      "375\n"
     ]
    }
   ],
   "source": [
    "import numpy as np\n",
    "n1 = np.array([[[12,23,32,1],\n",
    "               [23,11,24,2]],\n",
    "               [[45,53,25,3],\n",
    "               [14,17,86,4]]])\n",
    "print(n1)\n",
    "print(\"ofter\")\n",
    "for i in n1:\n",
    "    for l in i:\n",
    "        for k in l:\n",
    "            print(k)\n",
    "print(np.sum(n1))"
   ]
  },
  {
   "cell_type": "code",
   "execution_count": null,
   "id": "badb90b5",
   "metadata": {},
   "outputs": [],
   "source": [
    "# for iterator we can use nditer() function  "
   ]
  },
  {
   "cell_type": "code",
   "execution_count": 101,
   "id": "b909af64",
   "metadata": {},
   "outputs": [
    {
     "name": "stdout",
     "output_type": "stream",
     "text": [
      "[[[1 2 3]\n",
      "  [1 3 5]\n",
      "  [2 9 6]]]\n"
     ]
    }
   ],
   "source": [
    "ar3 = [[[1,2,3],[1,3,5],[2,9,6]]]\n",
    "y = np.array(ar3)\n",
    "print(y)"
   ]
  },
  {
   "cell_type": "code",
   "execution_count": 102,
   "id": "2adbfe60",
   "metadata": {},
   "outputs": [
    {
     "name": "stdout",
     "output_type": "stream",
     "text": [
      "1\n",
      "2\n",
      "3\n",
      "1\n",
      "3\n",
      "5\n",
      "2\n",
      "9\n",
      "6\n"
     ]
    }
   ],
   "source": [
    "for i in np.nditer(ar3):\n",
    "    print(i)"
   ]
  },
  {
   "cell_type": "code",
   "execution_count": 110,
   "id": "5acb7395",
   "metadata": {},
   "outputs": [],
   "source": [
    "# here we find data with index value using ndenumerate()"
   ]
  },
  {
   "cell_type": "code",
   "execution_count": 111,
   "id": "021fab61",
   "metadata": {},
   "outputs": [
    {
     "name": "stdout",
     "output_type": "stream",
     "text": [
      "[[[1 2 3]\n",
      "  [1 3 5]\n",
      "  [2 9 6]]]\n",
      "(0, 0, 0) 1\n",
      "(0, 0, 1) 2\n",
      "(0, 0, 2) 3\n",
      "(0, 1, 0) 1\n",
      "(0, 1, 1) 3\n",
      "(0, 1, 2) 5\n",
      "(0, 2, 0) 2\n",
      "(0, 2, 1) 9\n",
      "(0, 2, 2) 6\n"
     ]
    }
   ],
   "source": [
    "ar3 = [[[1,2,3],[1,3,5],[2,9,6]]]\n",
    "y = np.array(ar3)\n",
    "print(y)\n",
    "for i,d in np.ndenumerate(ar3):\n",
    "    print(i,d)"
   ]
  },
  {
   "cell_type": "code",
   "execution_count": 112,
   "id": "ab227811",
   "metadata": {},
   "outputs": [
    {
     "name": "stdout",
     "output_type": "stream",
     "text": [
      "[[[1 2 3]\n",
      "  [1 3 5]\n",
      "  [2 9 6]]]\n",
      "((0, 0, 0), 1)\n",
      "((0, 0, 1), 2)\n",
      "((0, 0, 2), 3)\n",
      "((0, 1, 0), 1)\n",
      "((0, 1, 1), 3)\n",
      "((0, 1, 2), 5)\n",
      "((0, 2, 0), 2)\n",
      "((0, 2, 1), 9)\n",
      "((0, 2, 2), 6)\n"
     ]
    }
   ],
   "source": [
    "ar3 = [[[1,2,3],[1,3,5],[2,9,6]]]\n",
    "y = np.array(ar3)\n",
    "print(y)\n",
    "for i in np.ndenumerate(ar3):\n",
    "    print(i)"
   ]
  },
  {
   "cell_type": "code",
   "execution_count": null,
   "id": "66a6d72f",
   "metadata": {},
   "outputs": [],
   "source": [
    "y2 = np.array([[11,21,31],[21,22,23]])\n",
    "print(y2)\n",
    "print()\n",
    "for j,m in np.ndenumerate(y2):\n",
    "    print(j,m)"
   ]
  },
  {
   "cell_type": "markdown",
   "id": "f62b89b5",
   "metadata": {},
   "source": [
    "# copy and view"
   ]
  },
  {
   "cell_type": "markdown",
   "id": "7b883b73",
   "metadata": {},
   "source": [
    "|copy         |  view                 |\n",
    "--------------|-----------------------|\n",
    "| the copy  owns the data| the view does not data|\n",
    "| the copy of an array is a new array. | a view of the original array  |\n",
    "| the changes made in  the copy data does not reflect in the original array  |  any changes made to the view will affect the original array and any changes made to the original array will affect the view| "
   ]
  },
  {
   "cell_type": "code",
   "execution_count": 10,
   "id": "523019b5",
   "metadata": {},
   "outputs": [],
   "source": [
    "import numpy as np\n"
   ]
  },
  {
   "cell_type": "code",
   "execution_count": 5,
   "id": "40789f4d",
   "metadata": {},
   "outputs": [
    {
     "name": "stdout",
     "output_type": "stream",
     "text": [
      "real array  [1 2 3 4]\n",
      "copy array  [1 2 3 4]\n"
     ]
    }
   ],
   "source": [
    "arr = np.array([1,2,3,4])\n",
    "arr_copy = arr.copy()\n",
    "print(\"real array \", arr)\n",
    "print(\"copy array \", arr_copy)\n"
   ]
  },
  {
   "cell_type": "code",
   "execution_count": 11,
   "id": "d0627c51",
   "metadata": {},
   "outputs": [
    {
     "name": "stdout",
     "output_type": "stream",
     "text": [
      "real array  [ 1  2 20  4]\n",
      "copy array  [1 2 3 4]\n"
     ]
    }
   ],
   "source": [
    "arr = np.array([1,2,3,4])\n",
    "arr_copy = arr.copy()\n",
    "arr[2] = 20\n",
    "print(\"real array \", arr)\n",
    "print(\"copy array \", arr_copy)\n"
   ]
  },
  {
   "cell_type": "code",
   "execution_count": 6,
   "id": "24b0830a",
   "metadata": {},
   "outputs": [
    {
     "name": "stdout",
     "output_type": "stream",
     "text": [
      "real array  [1 2 3 4]\n",
      "copy array  [1 2 3 4]\n"
     ]
    }
   ],
   "source": [
    "arr = np.array([1,2,3,4])\n",
    "arr_view = arr.view()\n",
    "print(\"real array \", arr)\n",
    "print(\"copy array \", arr_view)"
   ]
  },
  {
   "cell_type": "code",
   "execution_count": 12,
   "id": "a5c986a1",
   "metadata": {},
   "outputs": [
    {
     "name": "stdout",
     "output_type": "stream",
     "text": [
      "real array  [ 1  2  3 12]\n",
      "copy array  [ 1  2  3 12]\n"
     ]
    }
   ],
   "source": [
    "arr = np.array([1,2,3,4])\n",
    "arr_view = arr.view()\n",
    "arr[3] = 12\n",
    "print(\"real array \", arr)\n",
    "print(\"copy array \", arr_view)"
   ]
  },
  {
   "cell_type": "markdown",
   "id": "36246953",
   "metadata": {},
   "source": [
    "# Join Array"
   ]
  },
  {
   "cell_type": "code",
   "execution_count": 17,
   "id": "712e923c",
   "metadata": {},
   "outputs": [
    {
     "name": "stdout",
     "output_type": "stream",
     "text": [
      "[1 2 3 4 5 6 7 8]\n"
     ]
    }
   ],
   "source": [
    "a1 = np.array([1,2,3,4])\n",
    "a2 = np.array([5,6,7,8])\n",
    "arr = np.concatenate((a1,a2))\n",
    "print(arr)"
   ]
  },
  {
   "cell_type": "code",
   "execution_count": 18,
   "id": "99cd8c99",
   "metadata": {},
   "outputs": [
    {
     "name": "stdout",
     "output_type": "stream",
     "text": [
      "[[12 11 13]\n",
      " [14 21 31]\n",
      " [ 1 11 18]\n",
      " [ 4  1  3]]\n"
     ]
    }
   ],
   "source": [
    "v = np.array([[12,11,13],\n",
    "             [14,21,31]])\n",
    "x = np.array([[1,11,18],\n",
    "             [4,1,3]])\n",
    "print(np.concatenate((v,x)))"
   ]
  },
  {
   "cell_type": "code",
   "execution_count": 21,
   "id": "fb96e736",
   "metadata": {},
   "outputs": [
    {
     "name": "stdout",
     "output_type": "stream",
     "text": [
      "[[12 11 13  1 11 18]\n",
      " [14 21 31  4  1  3]]\n"
     ]
    }
   ],
   "source": [
    "v = np.array([[12,11,13],\n",
    "             [14,21,31]])\n",
    "x = np.array([[1,11,18],\n",
    "             [4,1,3]])\n",
    "p = np.concatenate((v,x),axis = 1)\n",
    "print(p)"
   ]
  },
  {
   "cell_type": "code",
   "execution_count": 22,
   "id": "4bfd4556",
   "metadata": {},
   "outputs": [
    {
     "name": "stdout",
     "output_type": "stream",
     "text": [
      "[[12 11 13]\n",
      " [14 21 31]\n",
      " [ 1 11 18]\n",
      " [ 4  1  3]]\n"
     ]
    }
   ],
   "source": [
    "p0 = np.concatenate((v,x),axis = 0)\n",
    "print(p0)"
   ]
  },
  {
   "cell_type": "code",
   "execution_count": 23,
   "id": "1a901944",
   "metadata": {},
   "outputs": [
    {
     "name": "stdout",
     "output_type": "stream",
     "text": [
      "[[1 2 3 4]\n",
      " [5 6 7 8]]\n"
     ]
    }
   ],
   "source": [
    "a11 = np.array([1,2,3,4])\n",
    "a22 = np.array([5,6,7,8])\n",
    "arr1 = np.stack((a11,a22))\n",
    "print(arr1)"
   ]
  },
  {
   "cell_type": "code",
   "execution_count": 25,
   "id": "59e4dc32",
   "metadata": {},
   "outputs": [
    {
     "name": "stdout",
     "output_type": "stream",
     "text": [
      "[[1 5]\n",
      " [2 6]\n",
      " [3 7]\n",
      " [4 8]]\n"
     ]
    }
   ],
   "source": [
    "a11 = np.array([1,2,3,4])\n",
    "a22 = np.array([5,6,7,8])\n",
    "arr1 = np.stack((a11,a22),axis = 1)\n",
    "print(arr1)"
   ]
  },
  {
   "cell_type": "code",
   "execution_count": 26,
   "id": "cee13ca7",
   "metadata": {},
   "outputs": [
    {
     "name": "stdout",
     "output_type": "stream",
     "text": [
      "[[1 2 3 4]\n",
      " [5 6 7 8]]\n"
     ]
    }
   ],
   "source": [
    "arr0 = np.stack((a11,a22),axis = 0)\n",
    "print(arr0)"
   ]
  },
  {
   "cell_type": "code",
   "execution_count": 27,
   "id": "64094965",
   "metadata": {},
   "outputs": [
    {
     "name": "stdout",
     "output_type": "stream",
     "text": [
      "[1 2 3 4 5 6 7 8]\n"
     ]
    }
   ],
   "source": [
    "arr1 = np.hstack((a11,a22))  # hstack mean horizental marge\n",
    "print(arr1)"
   ]
  },
  {
   "cell_type": "code",
   "execution_count": 28,
   "id": "5fbc72e4",
   "metadata": {},
   "outputs": [
    {
     "name": "stdout",
     "output_type": "stream",
     "text": [
      "[[1 2 3 4]\n",
      " [5 6 7 8]]\n"
     ]
    }
   ],
   "source": [
    "arr1 = np.vstack((a11,a22))  # vstack mean vertical marge\n",
    "print(arr1)"
   ]
  },
  {
   "cell_type": "code",
   "execution_count": 29,
   "id": "40f9a419",
   "metadata": {},
   "outputs": [
    {
     "name": "stdout",
     "output_type": "stream",
     "text": [
      "[[[1 5]\n",
      "  [2 6]\n",
      "  [3 7]\n",
      "  [4 8]]]\n"
     ]
    }
   ],
   "source": [
    "arr1 = np.dstack((a11,a22))  # dstack mean hight marge\n",
    "print(arr1)"
   ]
  },
  {
   "cell_type": "markdown",
   "id": "57df541d",
   "metadata": {},
   "source": [
    "# Split Array\n",
    "### splitting breack one array into multiple"
   ]
  },
  {
   "cell_type": "code",
   "execution_count": 31,
   "id": "85d319a7",
   "metadata": {},
   "outputs": [
    {
     "name": "stdout",
     "output_type": "stream",
     "text": [
      "[1 2 3 4 5 6 7 8 9]\n",
      "\n",
      "[array([1, 2, 3]), array([4, 5, 6]), array([7, 8, 9])]\n"
     ]
    }
   ],
   "source": [
    "import numpy as np\n",
    "var = np.array([1,2,3,4,5,6,7,8,9])\n",
    "print(var)\n",
    "s = np.array_split(var,3)\n",
    "print()\n",
    "print(s)\n"
   ]
  },
  {
   "cell_type": "code",
   "execution_count": 32,
   "id": "825bf6d9",
   "metadata": {},
   "outputs": [
    {
     "data": {
      "text/plain": [
       "list"
      ]
     },
     "execution_count": 32,
     "metadata": {},
     "output_type": "execute_result"
    }
   ],
   "source": [
    "type(s)"
   ]
  },
  {
   "cell_type": "markdown",
   "id": "6c6a3464",
   "metadata": {},
   "source": [
    "# Search"
   ]
  },
  {
   "cell_type": "code",
   "execution_count": 1,
   "id": "82714239",
   "metadata": {},
   "outputs": [],
   "source": [
    "import numpy as np"
   ]
  },
  {
   "cell_type": "code",
   "execution_count": 5,
   "id": "d6d305cc",
   "metadata": {},
   "outputs": [
    {
     "name": "stdout",
     "output_type": "stream",
     "text": [
      "(array([3], dtype=int64),)\n"
     ]
    }
   ],
   "source": [
    "num = np.array([12,32,54,78,98])\n",
    "search_num = np.where( (num == 78) )\n",
    "print(search_num)"
   ]
  },
  {
   "cell_type": "markdown",
   "id": "19dd0d8c",
   "metadata": {},
   "source": [
    "# Sort"
   ]
  },
  {
   "cell_type": "code",
   "execution_count": 7,
   "id": "aaef8e3a",
   "metadata": {},
   "outputs": [
    {
     "name": "stdout",
     "output_type": "stream",
     "text": [
      "[ 1  4 11 18 21 33 42]\n"
     ]
    }
   ],
   "source": [
    "s = np.array([21,42,11,18,4,1,33])\n",
    "print(np.sort(s))"
   ]
  },
  {
   "cell_type": "code",
   "execution_count": 12,
   "id": "af746f40",
   "metadata": {},
   "outputs": [],
   "source": [
    "d2 = np.array([[23,12,11,34,2,6],[98,55,88,456,2,52]])\n"
   ]
  },
  {
   "cell_type": "code",
   "execution_count": 13,
   "id": "d30cbf79",
   "metadata": {},
   "outputs": [
    {
     "name": "stdout",
     "output_type": "stream",
     "text": [
      "[[  2   6  11  12  23  34]\n",
      " [  2  52  55  88  98 456]]\n"
     ]
    }
   ],
   "source": [
    "print(np.sort(d2))"
   ]
  },
  {
   "cell_type": "markdown",
   "id": "d37d9bc0",
   "metadata": {},
   "source": [
    "# Arithmetic Function"
   ]
  },
  {
   "cell_type": "markdown",
   "id": "db534278",
   "metadata": {},
   "source": [
    "# Suffle "
   ]
  },
  {
   "cell_type": "code",
   "execution_count": 21,
   "id": "27635036",
   "metadata": {},
   "outputs": [
    {
     "name": "stdout",
     "output_type": "stream",
     "text": [
      "[ 4 23 32 54  1]\n"
     ]
    }
   ],
   "source": [
    "import numpy as np\n",
    "arr = np.array([1,32,4,23,54])\n",
    "np.random.shuffle(arr)\n",
    "print(arr)"
   ]
  },
  {
   "cell_type": "code",
   "execution_count": 20,
   "id": "62b37974",
   "metadata": {},
   "outputs": [
    {
     "name": "stdout",
     "output_type": "stream",
     "text": [
      "[32 54 23  1  4]\n"
     ]
    }
   ],
   "source": [
    "print(arr)"
   ]
  },
  {
   "cell_type": "markdown",
   "id": "a17e9ee4",
   "metadata": {},
   "source": [
    "# Unique"
   ]
  },
  {
   "cell_type": "code",
   "execution_count": 25,
   "id": "4d826674",
   "metadata": {},
   "outputs": [
    {
     "name": "stdout",
     "output_type": "stream",
     "text": [
      "[ 1  4 11 18 21 33 42]\n"
     ]
    }
   ],
   "source": [
    "a = np.array([1,2,2,3,4,4,5,4,55,3,4])\n",
    "c = np.unique(s)\n",
    "print(c)"
   ]
  },
  {
   "cell_type": "code",
   "execution_count": 30,
   "id": "99d94785",
   "metadata": {},
   "outputs": [
    {
     "name": "stdout",
     "output_type": "stream",
     "text": [
      "(array([ 1,  4, 11, 18, 21, 33, 42]), array([5, 4, 2, 3, 0, 6, 1], dtype=int64))\n"
     ]
    }
   ],
   "source": [
    "a = np.array([1,2,2,3,4,4,4,4,5,4,55,3,4])\n",
    "c = np.unique(s,return_index = True)\n",
    "print(c)\n"
   ]
  },
  {
   "cell_type": "code",
   "execution_count": 32,
   "id": "3de2e1ce",
   "metadata": {},
   "outputs": [
    {
     "name": "stdout",
     "output_type": "stream",
     "text": [
      "(array([ 1,  4, 11, 18, 21, 33, 42]), array([5, 4, 2, 3, 0, 6, 1], dtype=int64), array([1, 1, 1, 1, 1, 1, 1], dtype=int64))\n"
     ]
    }
   ],
   "source": [
    "a = np.array([1,2,2,3,5,4,55,3,4])\n",
    "c = np.unique(s,return_index = True,return_counts = True)\n",
    "print(c)"
   ]
  },
  {
   "cell_type": "markdown",
   "id": "91374325",
   "metadata": {},
   "source": [
    "# Resize"
   ]
  },
  {
   "cell_type": "code",
   "execution_count": 33,
   "id": "3d227dc5",
   "metadata": {},
   "outputs": [
    {
     "name": "stdout",
     "output_type": "stream",
     "text": [
      "[[1 2 3]\n",
      " [4 5 6]]\n"
     ]
    }
   ],
   "source": [
    "x = np.array([1,2,3,4,5,6])\n",
    "x1 = np.resize(x,(2,3))\n",
    "print(x1)"
   ]
  },
  {
   "cell_type": "code",
   "execution_count": 34,
   "id": "b8b5e812",
   "metadata": {},
   "outputs": [
    {
     "name": "stdout",
     "output_type": "stream",
     "text": [
      "[[1 2 3]\n",
      " [4 5 6]\n",
      " [1 2 3]]\n"
     ]
    }
   ],
   "source": [
    "x1 = np.resize(x,(3,3))\n",
    "print(x1)"
   ]
  },
  {
   "cell_type": "markdown",
   "id": "8554bf39",
   "metadata": {},
   "source": [
    "# Inser"
   ]
  },
  {
   "cell_type": "code",
   "execution_count": 35,
   "id": "290405b2",
   "metadata": {},
   "outputs": [
    {
     "name": "stdout",
     "output_type": "stream",
     "text": [
      "[1 2 3 4]\n",
      "[ 1  2 33  3  4]\n"
     ]
    }
   ],
   "source": [
    "import numpy as np\n",
    "w = np.array([1,2,3,4])\n",
    "print(w)\n",
    "b = np.insert(w,2,33)  # insert(array,index,value)\n",
    "print(b)"
   ]
  },
  {
   "cell_type": "code",
   "execution_count": 36,
   "id": "a422181a",
   "metadata": {},
   "outputs": [
    {
     "name": "stdout",
     "output_type": "stream",
     "text": [
      "[1 2 3 4]\n",
      "[ 1  2 33  3 33  4]\n"
     ]
    }
   ],
   "source": [
    "w = np.array([1,2,3,4])\n",
    "print(w)\n",
    "b = np.insert(w,(2,3),33)  \n",
    "print(b)"
   ]
  },
  {
   "cell_type": "code",
   "execution_count": 39,
   "id": "b205f104",
   "metadata": {},
   "outputs": [
    {
     "name": "stdout",
     "output_type": "stream",
     "text": [
      "[1 2 6 4]\n",
      "[1 2 3 6 3 4]\n"
     ]
    }
   ],
   "source": [
    "w = np.array([1,2,6,4])\n",
    "print(w)\n",
    "b = np.insert(w,(2,3),(3,3))  \n",
    "print(b)"
   ]
  },
  {
   "cell_type": "code",
   "execution_count": 41,
   "id": "0f538b9c",
   "metadata": {},
   "outputs": [
    {
     "name": "stdout",
     "output_type": "stream",
     "text": [
      "[12 32 54 78 98]\n",
      "\n",
      "[12 32 54 78 98 43]\n"
     ]
    }
   ],
   "source": [
    "num = np.array([12,32,54,78,98])\n",
    "print(num)\n",
    "print()\n",
    "c= np.append(num,43)\n",
    "print(c)"
   ]
  },
  {
   "cell_type": "code",
   "execution_count": 42,
   "id": "f27c3efe",
   "metadata": {},
   "outputs": [
    {
     "name": "stdout",
     "output_type": "stream",
     "text": [
      "[12 32 54 78 98]\n",
      "\n",
      "[12 32 54 78 98 43  6  8]\n"
     ]
    }
   ],
   "source": [
    "num = np.array([12,32,54,78,98])\n",
    "print(num)\n",
    "print()\n",
    "c= np.append(num,[43,6,8])\n",
    "print(c)"
   ]
  },
  {
   "cell_type": "markdown",
   "id": "460aed09",
   "metadata": {},
   "source": [
    "# Delete"
   ]
  },
  {
   "cell_type": "code",
   "execution_count": 44,
   "id": "2b1cd754",
   "metadata": {},
   "outputs": [
    {
     "name": "stdout",
     "output_type": "stream",
     "text": [
      "[12 32 54 78 98]\n",
      "\n",
      "[12 32 54 98]\n"
     ]
    }
   ],
   "source": [
    "num = np.array([12,32,54,78,98])\n",
    "print(num)\n",
    "print()\n",
    "c= np.delete(num,3) # (arr,idex_number)\n",
    "print(c)"
   ]
  },
  {
   "cell_type": "markdown",
   "id": "0dd7c8fe",
   "metadata": {},
   "source": [
    "# Matrix in Numpy"
   ]
  },
  {
   "cell_type": "code",
   "execution_count": 47,
   "id": "c66cfa34",
   "metadata": {},
   "outputs": [
    {
     "name": "stdout",
     "output_type": "stream",
     "text": [
      "[[1 2 3]\n",
      " [1 2 3]]\n"
     ]
    },
    {
     "data": {
      "text/plain": [
       "numpy.matrix"
      ]
     },
     "execution_count": 47,
     "metadata": {},
     "output_type": "execute_result"
    }
   ],
   "source": [
    "import numpy as np\n",
    "v = np.matrix([[1,2,3],[1,2,3]])\n",
    "print(v)\n",
    "type(v)"
   ]
  },
  {
   "cell_type": "code",
   "execution_count": 48,
   "id": "6f32db72",
   "metadata": {},
   "outputs": [
    {
     "name": "stdout",
     "output_type": "stream",
     "text": [
      "[[1 2 3]\n",
      " [1 2 3]]\n"
     ]
    },
    {
     "data": {
      "text/plain": [
       "numpy.ndarray"
      ]
     },
     "execution_count": 48,
     "metadata": {},
     "output_type": "execute_result"
    }
   ],
   "source": [
    "import numpy as np\n",
    "e = np.array([[1,2,3],[1,2,3]])\n",
    "print(e)\n",
    "type(e)"
   ]
  },
  {
   "cell_type": "markdown",
   "id": "9bf48afa",
   "metadata": {},
   "source": [
    "### Here we can apply all arithmetic operation"
   ]
  },
  {
   "cell_type": "code",
   "execution_count": 52,
   "id": "4fcac083",
   "metadata": {},
   "outputs": [
    {
     "name": "stdout",
     "output_type": "stream",
     "text": [
      "[[2 4 6]\n",
      " [2 4 6]]\n"
     ]
    }
   ],
   "source": [
    "import numpy as np\n",
    "v = np.matrix([[1,2,3],[1,2,3]])\n",
    "w = np.matrix([[1,2,3],[1,2,3]])\n",
    "print(v+w)"
   ]
  },
  {
   "cell_type": "code",
   "execution_count": 53,
   "id": "daccb194",
   "metadata": {},
   "outputs": [
    {
     "name": "stdout",
     "output_type": "stream",
     "text": [
      "[[0 0 0]\n",
      " [0 0 0]]\n"
     ]
    }
   ],
   "source": [
    "print(v-w)"
   ]
  },
  {
   "cell_type": "code",
   "execution_count": 55,
   "id": "a82ff82f",
   "metadata": {},
   "outputs": [
    {
     "name": "stdout",
     "output_type": "stream",
     "text": [
      "[[ 8 13]\n",
      " [ 7 11]]\n"
     ]
    }
   ],
   "source": [
    "v = np.matrix([[2,3],[1,3]])\n",
    "w = np.matrix([[1,2],[2,3]])\n",
    "print(v*w)"
   ]
  },
  {
   "cell_type": "code",
   "execution_count": 57,
   "id": "91e48eca",
   "metadata": {},
   "outputs": [
    {
     "name": "stdout",
     "output_type": "stream",
     "text": [
      "[[2 3]]\n"
     ]
    }
   ],
   "source": [
    "c = np.matrix.diagonal(v)\n",
    "print(c)"
   ]
  },
  {
   "cell_type": "code",
   "execution_count": null,
   "id": "f97cf5e9",
   "metadata": {},
   "outputs": [],
   "source": []
  },
  {
   "cell_type": "code",
   "execution_count": null,
   "id": "a2e9810d",
   "metadata": {},
   "outputs": [],
   "source": []
  },
  {
   "cell_type": "code",
   "execution_count": null,
   "id": "e37d6987",
   "metadata": {},
   "outputs": [],
   "source": []
  },
  {
   "cell_type": "code",
   "execution_count": null,
   "id": "fbe74a8c",
   "metadata": {},
   "outputs": [],
   "source": []
  },
  {
   "cell_type": "code",
   "execution_count": null,
   "id": "f0b6a089",
   "metadata": {},
   "outputs": [],
   "source": []
  },
  {
   "cell_type": "code",
   "execution_count": null,
   "id": "8053c000",
   "metadata": {},
   "outputs": [],
   "source": []
  },
  {
   "cell_type": "code",
   "execution_count": null,
   "id": "807a74c5",
   "metadata": {},
   "outputs": [],
   "source": []
  },
  {
   "cell_type": "code",
   "execution_count": null,
   "id": "b5e5a160",
   "metadata": {},
   "outputs": [],
   "source": []
  },
  {
   "cell_type": "code",
   "execution_count": null,
   "id": "1f281f38",
   "metadata": {},
   "outputs": [],
   "source": []
  },
  {
   "cell_type": "code",
   "execution_count": null,
   "id": "84eae954",
   "metadata": {},
   "outputs": [],
   "source": []
  },
  {
   "cell_type": "code",
   "execution_count": null,
   "id": "90781d12",
   "metadata": {},
   "outputs": [],
   "source": []
  },
  {
   "cell_type": "code",
   "execution_count": null,
   "id": "aa66a45d",
   "metadata": {},
   "outputs": [],
   "source": []
  },
  {
   "cell_type": "code",
   "execution_count": null,
   "id": "cd488178",
   "metadata": {},
   "outputs": [],
   "source": []
  },
  {
   "cell_type": "code",
   "execution_count": null,
   "id": "f7a685df",
   "metadata": {},
   "outputs": [],
   "source": []
  },
  {
   "cell_type": "code",
   "execution_count": null,
   "id": "73a5f298",
   "metadata": {},
   "outputs": [],
   "source": []
  },
  {
   "cell_type": "code",
   "execution_count": null,
   "id": "f63d185b",
   "metadata": {},
   "outputs": [],
   "source": []
  },
  {
   "cell_type": "code",
   "execution_count": null,
   "id": "a610bb69",
   "metadata": {},
   "outputs": [],
   "source": []
  },
  {
   "cell_type": "code",
   "execution_count": null,
   "id": "4dd126e8",
   "metadata": {},
   "outputs": [],
   "source": []
  },
  {
   "cell_type": "code",
   "execution_count": null,
   "id": "293244be",
   "metadata": {},
   "outputs": [],
   "source": []
  },
  {
   "cell_type": "code",
   "execution_count": null,
   "id": "65d9dbc8",
   "metadata": {},
   "outputs": [],
   "source": []
  },
  {
   "cell_type": "code",
   "execution_count": null,
   "id": "6ce41224",
   "metadata": {},
   "outputs": [],
   "source": []
  },
  {
   "cell_type": "code",
   "execution_count": null,
   "id": "81e378a5",
   "metadata": {},
   "outputs": [],
   "source": []
  },
  {
   "cell_type": "code",
   "execution_count": null,
   "id": "a2bfca47",
   "metadata": {},
   "outputs": [],
   "source": []
  },
  {
   "cell_type": "code",
   "execution_count": null,
   "id": "7d76ca6b",
   "metadata": {},
   "outputs": [],
   "source": []
  },
  {
   "cell_type": "code",
   "execution_count": null,
   "id": "b5821391",
   "metadata": {},
   "outputs": [],
   "source": []
  },
  {
   "cell_type": "code",
   "execution_count": null,
   "id": "9db666e2",
   "metadata": {},
   "outputs": [],
   "source": []
  },
  {
   "cell_type": "code",
   "execution_count": null,
   "id": "e24fcb2b",
   "metadata": {},
   "outputs": [],
   "source": []
  },
  {
   "cell_type": "code",
   "execution_count": null,
   "id": "fc552a2e",
   "metadata": {},
   "outputs": [],
   "source": []
  },
  {
   "cell_type": "code",
   "execution_count": null,
   "id": "5ac8a2c5",
   "metadata": {},
   "outputs": [],
   "source": []
  },
  {
   "cell_type": "code",
   "execution_count": null,
   "id": "8937ad28",
   "metadata": {},
   "outputs": [],
   "source": []
  },
  {
   "cell_type": "code",
   "execution_count": null,
   "id": "4f47cc42",
   "metadata": {},
   "outputs": [],
   "source": []
  },
  {
   "cell_type": "code",
   "execution_count": null,
   "id": "30dc127f",
   "metadata": {},
   "outputs": [],
   "source": []
  },
  {
   "cell_type": "code",
   "execution_count": null,
   "id": "95694186",
   "metadata": {},
   "outputs": [],
   "source": []
  }
 ],
 "metadata": {
  "kernelspec": {
   "display_name": "Python 3 (ipykernel)",
   "language": "python",
   "name": "python3"
  },
  "language_info": {
   "codemirror_mode": {
    "name": "ipython",
    "version": 3
   },
   "file_extension": ".py",
   "mimetype": "text/x-python",
   "name": "python",
   "nbconvert_exporter": "python",
   "pygments_lexer": "ipython3",
   "version": "3.9.12"
  }
 },
 "nbformat": 4,
 "nbformat_minor": 5
}
